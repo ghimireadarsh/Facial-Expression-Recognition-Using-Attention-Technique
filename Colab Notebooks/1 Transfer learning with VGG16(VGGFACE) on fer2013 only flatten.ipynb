{
 "cells": [
  {
   "cell_type": "code",
   "execution_count": 1,
   "metadata": {
    "colab": {
     "base_uri": "https://localhost:8080/",
     "height": 224
    },
    "executionInfo": {
     "elapsed": 5030,
     "status": "ok",
     "timestamp": 1602524871827,
     "user": {
      "displayName": "Adarsh Ghimire",
      "photoUrl": "https://lh3.googleusercontent.com/a-/AOh14GiJ9rHrsqUAXXZP8Syzv-mcB6GhQzMybMiiiSFyKw=s64",
      "userId": "03649801403498526934"
     },
     "user_tz": -345
    },
    "id": "LYdUsK7g_NB6",
    "outputId": "c30e5923-5c3f-4d1e-c16c-db96136fc73b"
   },
   "outputs": [
    {
     "name": "stdout",
     "output_type": "stream",
     "text": [
      "Collecting keras_vggface\n",
      "  Downloading https://files.pythonhosted.org/packages/2f/7d/5f0319ebdc09ac1a2272364fa9583f5067b6f8aff93fbbf8835d81cbaad7/keras_vggface-0.6-py3-none-any.whl\n",
      "Requirement already satisfied: h5py in /usr/local/lib/python3.6/dist-packages (from keras_vggface) (2.10.0)\n",
      "Requirement already satisfied: numpy>=1.9.1 in /usr/local/lib/python3.6/dist-packages (from keras_vggface) (1.18.5)\n",
      "Requirement already satisfied: pyyaml in /usr/local/lib/python3.6/dist-packages (from keras_vggface) (3.13)\n",
      "Requirement already satisfied: scipy>=0.14 in /usr/local/lib/python3.6/dist-packages (from keras_vggface) (1.4.1)\n",
      "Requirement already satisfied: keras in /usr/local/lib/python3.6/dist-packages (from keras_vggface) (2.4.3)\n",
      "Requirement already satisfied: six>=1.9.0 in /usr/local/lib/python3.6/dist-packages (from keras_vggface) (1.15.0)\n",
      "Requirement already satisfied: pillow in /usr/local/lib/python3.6/dist-packages (from keras_vggface) (7.0.0)\n",
      "Installing collected packages: keras-vggface\n",
      "Successfully installed keras-vggface-0.6\n"
     ]
    }
   ],
   "source": [
    "!pip install keras_vggface"
   ]
  },
  {
   "cell_type": "code",
   "execution_count": 2,
   "metadata": {
    "colab": {
     "base_uri": "https://localhost:8080/",
     "height": 34
    },
    "executionInfo": {
     "elapsed": 1313,
     "status": "ok",
     "timestamp": 1602524873909,
     "user": {
      "displayName": "Adarsh Ghimire",
      "photoUrl": "https://lh3.googleusercontent.com/a-/AOh14GiJ9rHrsqUAXXZP8Syzv-mcB6GhQzMybMiiiSFyKw=s64",
      "userId": "03649801403498526934"
     },
     "user_tz": -345
    },
    "id": "cbw3j1jwAIeg",
    "outputId": "4819546d-dbd9-49cf-e709-e2b2e27678a6"
   },
   "outputs": [
    {
     "name": "stdout",
     "output_type": "stream",
     "text": [
      "TensorFlow 1.x selected.\n"
     ]
    }
   ],
   "source": [
    "%tensorflow_version 1.x"
   ]
  },
  {
   "cell_type": "code",
   "execution_count": 3,
   "metadata": {
    "colab": {
     "base_uri": "https://localhost:8080/",
     "height": 34
    },
    "executionInfo": {
     "elapsed": 6724,
     "status": "ok",
     "timestamp": 1602524881224,
     "user": {
      "displayName": "Adarsh Ghimire",
      "photoUrl": "https://lh3.googleusercontent.com/a-/AOh14GiJ9rHrsqUAXXZP8Syzv-mcB6GhQzMybMiiiSFyKw=s64",
      "userId": "03649801403498526934"
     },
     "user_tz": -345
    },
    "id": "z9HZ2zZP2ABG",
    "outputId": "607714a7-3f81-4c93-cac6-ac89510c2113"
   },
   "outputs": [
    {
     "name": "stderr",
     "output_type": "stream",
     "text": [
      "Using TensorFlow backend.\n"
     ]
    }
   ],
   "source": [
    "import os\n",
    "import numpy as np\n",
    "import tensorflow as tf\n",
    "import keras\n",
    "from keras.engine import  Model\n",
    "from keras.preprocessing.image import ImageDataGenerator\n",
    "from keras.applications import VGG16\n",
    "from keras.models import Sequential\n",
    "from keras.layers import Conv2D, Dense, Dropout, Flatten\n",
    "from keras import optimizers\n",
    "from keras_vggface.vggface import VGGFace\n",
    "from keras.callbacks import ReduceLROnPlateau\n",
    "from sklearn.utils import class_weight # For balancing the class_weights"
   ]
  },
  {
   "cell_type": "code",
   "execution_count": 4,
   "metadata": {
    "colab": {
     "base_uri": "https://localhost:8080/",
     "height": 51
    },
    "executionInfo": {
     "elapsed": 1409,
     "status": "ok",
     "timestamp": 1602524884833,
     "user": {
      "displayName": "Adarsh Ghimire",
      "photoUrl": "https://lh3.googleusercontent.com/a-/AOh14GiJ9rHrsqUAXXZP8Syzv-mcB6GhQzMybMiiiSFyKw=s64",
      "userId": "03649801403498526934"
     },
     "user_tz": -345
    },
    "id": "R3yJCe9SBF8z",
    "outputId": "99cd5911-7e81-4179-d835-6477c208f829"
   },
   "outputs": [
    {
     "name": "stdout",
     "output_type": "stream",
     "text": [
      "1.15.2\n",
      "2.3.1\n"
     ]
    }
   ],
   "source": [
    "print(tf.__version__)\n",
    "print(keras.__version__)"
   ]
  },
  {
   "cell_type": "code",
   "execution_count": 5,
   "metadata": {
    "colab": {
     "base_uri": "https://localhost:8080/",
     "height": 34
    },
    "executionInfo": {
     "elapsed": 24425,
     "status": "ok",
     "timestamp": 1602524910383,
     "user": {
      "displayName": "Adarsh Ghimire",
      "photoUrl": "https://lh3.googleusercontent.com/a-/AOh14GiJ9rHrsqUAXXZP8Syzv-mcB6GhQzMybMiiiSFyKw=s64",
      "userId": "03649801403498526934"
     },
     "user_tz": -345
    },
    "id": "83225eIsAXf_",
    "outputId": "1485b2ea-b664-4f27-a533-77c028802d05"
   },
   "outputs": [
    {
     "name": "stdout",
     "output_type": "stream",
     "text": [
      "Mounted at /content/drive\n"
     ]
    }
   ],
   "source": [
    "from google.colab import drive\n",
    "drive.mount('/content/drive')"
   ]
  },
  {
   "cell_type": "markdown",
   "metadata": {
    "id": "BM4OUrNJGaE3"
   },
   "source": [
    "## Data Preparation"
   ]
  },
  {
   "cell_type": "code",
   "execution_count": 6,
   "metadata": {
    "colab": {
     "base_uri": "https://localhost:8080/",
     "height": 34
    },
    "executionInfo": {
     "elapsed": 6163,
     "status": "ok",
     "timestamp": 1602524911623,
     "user": {
      "displayName": "Adarsh Ghimire",
      "photoUrl": "https://lh3.googleusercontent.com/a-/AOh14GiJ9rHrsqUAXXZP8Syzv-mcB6GhQzMybMiiiSFyKw=s64",
      "userId": "03649801403498526934"
     },
     "user_tz": -345
    },
    "id": "YTswhELQBwSn",
    "outputId": "3b5a7ff9-fa06-474e-f413-358f50f05ec3"
   },
   "outputs": [
    {
     "name": "stdout",
     "output_type": "stream",
     "text": [
      "fer2013.csv  PrivateTest.zip  PublicTest.zip  Training.zip\n"
     ]
    }
   ],
   "source": [
    "# data are in dataset folder in zipped format\n",
    "!ls \"drive/My Drive/ENGR635-Deep Learning System Design Project/Dataset/fer2013/\""
   ]
  },
  {
   "cell_type": "code",
   "execution_count": 7,
   "metadata": {
    "colab": {
     "base_uri": "https://localhost:8080/",
     "height": 34
    },
    "executionInfo": {
     "elapsed": 1271,
     "status": "ok",
     "timestamp": 1602524916634,
     "user": {
      "displayName": "Adarsh Ghimire",
      "photoUrl": "https://lh3.googleusercontent.com/a-/AOh14GiJ9rHrsqUAXXZP8Syzv-mcB6GhQzMybMiiiSFyKw=s64",
      "userId": "03649801403498526934"
     },
     "user_tz": -345
    },
    "id": "JlcZtbPnB-_M",
    "outputId": "a6c8291d-38e9-4ef5-8a43-42c0ba40b887"
   },
   "outputs": [
    {
     "name": "stdout",
     "output_type": "stream",
     "text": [
      "drive  sample_data\n"
     ]
    }
   ],
   "source": [
    "!ls "
   ]
  },
  {
   "cell_type": "code",
   "execution_count": 8,
   "metadata": {
    "executionInfo": {
     "elapsed": 9624,
     "status": "ok",
     "timestamp": 1602524931440,
     "user": {
      "displayName": "Adarsh Ghimire",
      "photoUrl": "https://lh3.googleusercontent.com/a-/AOh14GiJ9rHrsqUAXXZP8Syzv-mcB6GhQzMybMiiiSFyKw=s64",
      "userId": "03649801403498526934"
     },
     "user_tz": -345
    },
    "id": "-C3Fwdx4BnHD"
   },
   "outputs": [],
   "source": [
    "# This creates a temporary folder in drive root folder, so it will have to be reloaded again when required after terminating the session\n",
    "# Permanent data are stored in dataset in zipped format\n",
    "# This copies the zipped file and store in root of google drive temporarily\n",
    "! rm -rf Training; mkdir Training\n",
    "! unzip -q \"drive/My Drive/ENGR635-Deep Learning System Design Project/Dataset/fer2013/Training.zip\" -d Training\n",
    "\n",
    "! rm -rf Validation; mkdir Validation\n",
    "! unzip -q \"drive/My Drive/ENGR635-Deep Learning System Design Project/Dataset/fer2013/PublicTest.zip\" -d Validation\n",
    "\n",
    "! rm -rf Test; mkdir Test\n",
    "! unzip -q \"drive/My Drive/ENGR635-Deep Learning System Design Project/Dataset/fer2013/PrivateTest.zip\" -d Test"
   ]
  },
  {
   "cell_type": "code",
   "execution_count": 9,
   "metadata": {
    "colab": {
     "base_uri": "https://localhost:8080/",
     "height": 34
    },
    "executionInfo": {
     "elapsed": 1311,
     "status": "ok",
     "timestamp": 1602524933948,
     "user": {
      "displayName": "Adarsh Ghimire",
      "photoUrl": "https://lh3.googleusercontent.com/a-/AOh14GiJ9rHrsqUAXXZP8Syzv-mcB6GhQzMybMiiiSFyKw=s64",
      "userId": "03649801403498526934"
     },
     "user_tz": -345
    },
    "id": "Q0rEd4qTFZOW",
    "outputId": "237f6162-ee38-418c-c7d4-1fe95d0a6d1c"
   },
   "outputs": [
    {
     "name": "stdout",
     "output_type": "stream",
     "text": [
      "drive  sample_data  Test  Training  Validation\n"
     ]
    }
   ],
   "source": [
    "!ls"
   ]
  },
  {
   "cell_type": "code",
   "execution_count": 10,
   "metadata": {
    "colab": {
     "base_uri": "https://localhost:8080/",
     "height": 153
    },
    "executionInfo": {
     "elapsed": 1179,
     "status": "ok",
     "timestamp": 1602524936532,
     "user": {
      "displayName": "Adarsh Ghimire",
      "photoUrl": "https://lh3.googleusercontent.com/a-/AOh14GiJ9rHrsqUAXXZP8Syzv-mcB6GhQzMybMiiiSFyKw=s64",
      "userId": "03649801403498526934"
     },
     "user_tz": -345
    },
    "id": "lVqOHBZ2Ek2p",
    "outputId": "e658d915-8802-4ea4-d319-def8979b1939"
   },
   "outputs": [
    {
     "name": "stdout",
     "output_type": "stream",
     "text": [
      "total 820\n",
      "drwxr-xr-x 2 root root 126976 Oct 11 05:04 Angry\n",
      "drwxr-xr-x 2 root root  16384 Oct 11 05:04 Disgust\n",
      "drwxr-xr-x 2 root root 135168 Oct 11 05:04 Fear\n",
      "drwxr-xr-x 2 root root 204800 Oct 11 05:04 Happy\n",
      "drwxr-xr-x 2 root root 135168 Oct 11 05:04 Neutral\n",
      "drwxr-xr-x 2 root root 135168 Oct 11 05:04 Sad\n",
      "drwxr-xr-x 2 root root  86016 Oct 11 05:04 Surprise\n"
     ]
    }
   ],
   "source": [
    "!ls -l Training/"
   ]
  },
  {
   "cell_type": "code",
   "execution_count": 11,
   "metadata": {
    "colab": {
     "base_uri": "https://localhost:8080/",
     "height": 136
    },
    "executionInfo": {
     "elapsed": 1315,
     "status": "ok",
     "timestamp": 1602524938623,
     "user": {
      "displayName": "Adarsh Ghimire",
      "photoUrl": "https://lh3.googleusercontent.com/a-/AOh14GiJ9rHrsqUAXXZP8Syzv-mcB6GhQzMybMiiiSFyKw=s64",
      "userId": "03649801403498526934"
     },
     "user_tz": -345
    },
    "id": "9J_Y3AuiEvLH",
    "outputId": "176a4432-fd10-4c2c-a361-50f3f59b4a7f"
   },
   "outputs": [
    {
     "name": "stdout",
     "output_type": "stream",
     "text": [
      "Angry: 3995\n",
      "Disgust: 436\n",
      "Fear: 4097\n",
      "Happy: 7215\n",
      "Neutral: 4965\n",
      "Sad: 4830\n",
      "Surprise: 3171\n"
     ]
    }
   ],
   "source": [
    "%%bash\n",
    "root='Training/'\n",
    "IFS=$(echo -en \"\\n\\b\")\n",
    "(for dir in $(ls -1 \"$root\")\n",
    "    do printf \"$dir: \" && ls -i \"$root$dir\" | wc -l\n",
    " done)"
   ]
  },
  {
   "cell_type": "code",
   "execution_count": 12,
   "metadata": {
    "colab": {
     "base_uri": "https://localhost:8080/",
     "height": 136
    },
    "executionInfo": {
     "elapsed": 836,
     "status": "ok",
     "timestamp": 1602524940280,
     "user": {
      "displayName": "Adarsh Ghimire",
      "photoUrl": "https://lh3.googleusercontent.com/a-/AOh14GiJ9rHrsqUAXXZP8Syzv-mcB6GhQzMybMiiiSFyKw=s64",
      "userId": "03649801403498526934"
     },
     "user_tz": -345
    },
    "id": "PuFgVnVqFIr-",
    "outputId": "d88db863-134d-413f-d530-4ab237d8f69e"
   },
   "outputs": [
    {
     "name": "stdout",
     "output_type": "stream",
     "text": [
      "Angry: 467\n",
      "Disgust: 56\n",
      "Fear: 496\n",
      "Happy: 895\n",
      "Neutral: 607\n",
      "Sad: 653\n",
      "Surprise: 415\n"
     ]
    }
   ],
   "source": [
    "%%bash\n",
    "root='Validation/'\n",
    "IFS=$(echo -en \"\\n\\b\")\n",
    "(for dir in $(ls -1 \"$root\")\n",
    "    do printf \"$dir: \" && ls -i \"$root$dir\" | wc -l\n",
    " done)"
   ]
  },
  {
   "cell_type": "code",
   "execution_count": 13,
   "metadata": {
    "colab": {
     "base_uri": "https://localhost:8080/",
     "height": 136
    },
    "executionInfo": {
     "elapsed": 1472,
     "status": "ok",
     "timestamp": 1602524941535,
     "user": {
      "displayName": "Adarsh Ghimire",
      "photoUrl": "https://lh3.googleusercontent.com/a-/AOh14GiJ9rHrsqUAXXZP8Syzv-mcB6GhQzMybMiiiSFyKw=s64",
      "userId": "03649801403498526934"
     },
     "user_tz": -345
    },
    "id": "yunR8QsDFfS7",
    "outputId": "c78b9746-7a41-477c-eb0d-8777d6ae2a7d"
   },
   "outputs": [
    {
     "name": "stdout",
     "output_type": "stream",
     "text": [
      "Angry: 491\n",
      "Disgust: 55\n",
      "Fear: 528\n",
      "Happy: 879\n",
      "Neutral: 626\n",
      "Sad: 594\n",
      "Surprise: 416\n"
     ]
    }
   ],
   "source": [
    "%%bash\n",
    "root='Test/'\n",
    "IFS=$(echo -en \"\\n\\b\")\n",
    "(for dir in $(ls -1 \"$root\")\n",
    "    do printf \"$dir: \" && ls -i \"$root$dir\" | wc -l\n",
    " done)"
   ]
  },
  {
   "cell_type": "code",
   "execution_count": 14,
   "metadata": {
    "executionInfo": {
     "elapsed": 1264,
     "status": "ok",
     "timestamp": 1602524944783,
     "user": {
      "displayName": "Adarsh Ghimire",
      "photoUrl": "https://lh3.googleusercontent.com/a-/AOh14GiJ9rHrsqUAXXZP8Syzv-mcB6GhQzMybMiiiSFyKw=s64",
      "userId": "03649801403498526934"
     },
     "user_tz": -345
    },
    "id": "tUjWv1Ty2ABV"
   },
   "outputs": [],
   "source": [
    "train_dir = \"Training/\"\n",
    "validation_dir = \"Validation/\"\n",
    "test_dir = \"Test/\""
   ]
  },
  {
   "cell_type": "markdown",
   "metadata": {
    "id": "kc4QatxPGVgf"
   },
   "source": [
    "## All data are ready"
   ]
  },
  {
   "cell_type": "code",
   "execution_count": 15,
   "metadata": {
    "colab": {
     "base_uri": "https://localhost:8080/",
     "height": 156
    },
    "executionInfo": {
     "elapsed": 16455,
     "status": "ok",
     "timestamp": 1602524974046,
     "user": {
      "displayName": "Adarsh Ghimire",
      "photoUrl": "https://lh3.googleusercontent.com/a-/AOh14GiJ9rHrsqUAXXZP8Syzv-mcB6GhQzMybMiiiSFyKw=s64",
      "userId": "03649801403498526934"
     },
     "user_tz": -345
    },
    "id": "RABx6AF0GUcK",
    "outputId": "3c4589ee-a21f-4aa5-f6a4-d50d64cb2a2f"
   },
   "outputs": [
    {
     "name": "stdout",
     "output_type": "stream",
     "text": [
      "WARNING:tensorflow:From /tensorflow-1.15.2/python3.6/tensorflow_core/python/ops/resource_variable_ops.py:1630: calling BaseResourceVariable.__init__ (from tensorflow.python.ops.resource_variable_ops) with constraint is deprecated and will be removed in a future version.\n",
      "Instructions for updating:\n",
      "If using Keras pass *_constraint arguments to layers.\n",
      "WARNING:tensorflow:From /tensorflow-1.15.2/python3.6/keras/backend/tensorflow_backend.py:4070: The name tf.nn.max_pool is deprecated. Please use tf.nn.max_pool2d instead.\n",
      "\n",
      "Downloading data from https://github.com/rcmalli/keras-vggface/releases/download/v2.0/rcmalli_vggface_tf_notop_vgg16.h5\n",
      "58916864/58909280 [==============================] - 6s 0us/step\n"
     ]
    }
   ],
   "source": [
    "# https://github.com/rcmalli/keras-vggface#projects--blog-posts\n",
    "conv_base = VGGFace(model='vgg16',\n",
    "                  include_top = False,\n",
    "                  input_shape = (120,120,3))"
   ]
  },
  {
   "cell_type": "code",
   "execution_count": 16,
   "metadata": {
    "colab": {
     "base_uri": "https://localhost:8080/",
     "height": 799
    },
    "executionInfo": {
     "elapsed": 850,
     "status": "ok",
     "timestamp": 1602524976115,
     "user": {
      "displayName": "Adarsh Ghimire",
      "photoUrl": "https://lh3.googleusercontent.com/a-/AOh14GiJ9rHrsqUAXXZP8Syzv-mcB6GhQzMybMiiiSFyKw=s64",
      "userId": "03649801403498526934"
     },
     "user_tz": -345
    },
    "id": "XFZj8WNrGUNQ",
    "outputId": "322a0a3b-348f-4a99-94c5-3dbc85ab2f9e"
   },
   "outputs": [
    {
     "name": "stdout",
     "output_type": "stream",
     "text": [
      "Model: \"vggface_vgg16\"\n",
      "_________________________________________________________________\n",
      "Layer (type)                 Output Shape              Param #   \n",
      "=================================================================\n",
      "input_1 (InputLayer)         (None, 120, 120, 3)       0         \n",
      "_________________________________________________________________\n",
      "conv1_1 (Conv2D)             (None, 120, 120, 64)      1792      \n",
      "_________________________________________________________________\n",
      "conv1_2 (Conv2D)             (None, 120, 120, 64)      36928     \n",
      "_________________________________________________________________\n",
      "pool1 (MaxPooling2D)         (None, 60, 60, 64)        0         \n",
      "_________________________________________________________________\n",
      "conv2_1 (Conv2D)             (None, 60, 60, 128)       73856     \n",
      "_________________________________________________________________\n",
      "conv2_2 (Conv2D)             (None, 60, 60, 128)       147584    \n",
      "_________________________________________________________________\n",
      "pool2 (MaxPooling2D)         (None, 30, 30, 128)       0         \n",
      "_________________________________________________________________\n",
      "conv3_1 (Conv2D)             (None, 30, 30, 256)       295168    \n",
      "_________________________________________________________________\n",
      "conv3_2 (Conv2D)             (None, 30, 30, 256)       590080    \n",
      "_________________________________________________________________\n",
      "conv3_3 (Conv2D)             (None, 30, 30, 256)       590080    \n",
      "_________________________________________________________________\n",
      "pool3 (MaxPooling2D)         (None, 15, 15, 256)       0         \n",
      "_________________________________________________________________\n",
      "conv4_1 (Conv2D)             (None, 15, 15, 512)       1180160   \n",
      "_________________________________________________________________\n",
      "conv4_2 (Conv2D)             (None, 15, 15, 512)       2359808   \n",
      "_________________________________________________________________\n",
      "conv4_3 (Conv2D)             (None, 15, 15, 512)       2359808   \n",
      "_________________________________________________________________\n",
      "pool4 (MaxPooling2D)         (None, 7, 7, 512)         0         \n",
      "_________________________________________________________________\n",
      "conv5_1 (Conv2D)             (None, 7, 7, 512)         2359808   \n",
      "_________________________________________________________________\n",
      "conv5_2 (Conv2D)             (None, 7, 7, 512)         2359808   \n",
      "_________________________________________________________________\n",
      "conv5_3 (Conv2D)             (None, 7, 7, 512)         2359808   \n",
      "_________________________________________________________________\n",
      "pool5 (MaxPooling2D)         (None, 3, 3, 512)         0         \n",
      "=================================================================\n",
      "Total params: 14,714,688\n",
      "Trainable params: 14,714,688\n",
      "Non-trainable params: 0\n",
      "_________________________________________________________________\n"
     ]
    }
   ],
   "source": [
    "conv_base.summary()"
   ]
  },
  {
   "cell_type": "code",
   "execution_count": 17,
   "metadata": {
    "colab": {
     "base_uri": "https://localhost:8080/",
     "height": 34
    },
    "executionInfo": {
     "elapsed": 1498,
     "status": "ok",
     "timestamp": 1602524983927,
     "user": {
      "displayName": "Adarsh Ghimire",
      "photoUrl": "https://lh3.googleusercontent.com/a-/AOh14GiJ9rHrsqUAXXZP8Syzv-mcB6GhQzMybMiiiSFyKw=s64",
      "userId": "03649801403498526934"
     },
     "user_tz": -345
    },
    "id": "nFh7MWkeHOB5",
    "outputId": "5e0de4cb-4b15-4d7a-c4ca-fbe78f76760c"
   },
   "outputs": [
    {
     "data": {
      "text/plain": [
       "19"
      ]
     },
     "execution_count": 17,
     "metadata": {
      "tags": []
     },
     "output_type": "execute_result"
    }
   ],
   "source": [
    "DROP_OUT_RATE = 0.5\n",
    "FROZEN_LAYER_NUM = len(conv_base.layers)\n",
    "FROZEN_LAYER_NUM"
   ]
  },
  {
   "cell_type": "code",
   "execution_count": 18,
   "metadata": {
    "colab": {
     "base_uri": "https://localhost:8080/",
     "height": 34
    },
    "executionInfo": {
     "elapsed": 1104,
     "status": "ok",
     "timestamp": 1602524983929,
     "user": {
      "displayName": "Adarsh Ghimire",
      "photoUrl": "https://lh3.googleusercontent.com/a-/AOh14GiJ9rHrsqUAXXZP8Syzv-mcB6GhQzMybMiiiSFyKw=s64",
      "userId": "03649801403498526934"
     },
     "user_tz": -345
    },
    "id": "oOo4x3nMHjVr",
    "outputId": "d4f7e609-1a7d-42a8-ceed-4b94f22cc9d9"
   },
   "outputs": [
    {
     "name": "stdout",
     "output_type": "stream",
     "text": [
      "Number of trainable weights before freezing the conv base: 26\n"
     ]
    }
   ],
   "source": [
    "print(\"Number of trainable weights before freezing the conv base:\", len(conv_base.trainable_weights))"
   ]
  },
  {
   "cell_type": "code",
   "execution_count": 19,
   "metadata": {
    "executionInfo": {
     "elapsed": 1415,
     "status": "ok",
     "timestamp": 1602524987561,
     "user": {
      "displayName": "Adarsh Ghimire",
      "photoUrl": "https://lh3.googleusercontent.com/a-/AOh14GiJ9rHrsqUAXXZP8Syzv-mcB6GhQzMybMiiiSFyKw=s64",
      "userId": "03649801403498526934"
     },
     "user_tz": -345
    },
    "id": "yolc7LGnHwpg"
   },
   "outputs": [],
   "source": [
    "# conv_base.trainable = False\n",
    "for i in range(FROZEN_LAYER_NUM):\n",
    "    conv_base.layers[i].trainable = False"
   ]
  },
  {
   "cell_type": "code",
   "execution_count": 20,
   "metadata": {
    "colab": {
     "base_uri": "https://localhost:8080/",
     "height": 34
    },
    "executionInfo": {
     "elapsed": 793,
     "status": "ok",
     "timestamp": 1602524989048,
     "user": {
      "displayName": "Adarsh Ghimire",
      "photoUrl": "https://lh3.googleusercontent.com/a-/AOh14GiJ9rHrsqUAXXZP8Syzv-mcB6GhQzMybMiiiSFyKw=s64",
      "userId": "03649801403498526934"
     },
     "user_tz": -345
    },
    "id": "824MFNkNHx1Z",
    "outputId": "248ad550-7f2d-488b-ee30-5c8c103a3a44"
   },
   "outputs": [
    {
     "name": "stdout",
     "output_type": "stream",
     "text": [
      "Number of trainable weights after freezing the conv base: 0\n"
     ]
    }
   ],
   "source": [
    "print(\"Number of trainable weights after freezing the conv base:\", len(conv_base.trainable_weights))"
   ]
  },
  {
   "cell_type": "code",
   "execution_count": 21,
   "metadata": {
    "colab": {
     "base_uri": "https://localhost:8080/",
     "height": 34
    },
    "executionInfo": {
     "elapsed": 1121,
     "status": "ok",
     "timestamp": 1602524989641,
     "user": {
      "displayName": "Adarsh Ghimire",
      "photoUrl": "https://lh3.googleusercontent.com/a-/AOh14GiJ9rHrsqUAXXZP8Syzv-mcB6GhQzMybMiiiSFyKw=s64",
      "userId": "03649801403498526934"
     },
     "user_tz": -345
    },
    "id": "KAOD8j9lH7SR",
    "outputId": "933de401-f89c-4e23-f29b-9e97a570bdf9"
   },
   "outputs": [
    {
     "name": "stdout",
     "output_type": "stream",
     "text": [
      "False\n"
     ]
    }
   ],
   "source": [
    "print(conv_base.get_layer('conv5_3').trainable)"
   ]
  },
  {
   "cell_type": "code",
   "execution_count": 22,
   "metadata": {
    "colab": {
     "base_uri": "https://localhost:8080/",
     "height": 799
    },
    "executionInfo": {
     "elapsed": 922,
     "status": "ok",
     "timestamp": 1602524991034,
     "user": {
      "displayName": "Adarsh Ghimire",
      "photoUrl": "https://lh3.googleusercontent.com/a-/AOh14GiJ9rHrsqUAXXZP8Syzv-mcB6GhQzMybMiiiSFyKw=s64",
      "userId": "03649801403498526934"
     },
     "user_tz": -345
    },
    "id": "0U1OJIxdIVHo",
    "outputId": "6c8db8f5-b19a-4f49-93e1-d92d9b837f1f"
   },
   "outputs": [
    {
     "name": "stdout",
     "output_type": "stream",
     "text": [
      "Model: \"vggface_vgg16\"\n",
      "_________________________________________________________________\n",
      "Layer (type)                 Output Shape              Param #   \n",
      "=================================================================\n",
      "input_1 (InputLayer)         (None, 120, 120, 3)       0         \n",
      "_________________________________________________________________\n",
      "conv1_1 (Conv2D)             (None, 120, 120, 64)      1792      \n",
      "_________________________________________________________________\n",
      "conv1_2 (Conv2D)             (None, 120, 120, 64)      36928     \n",
      "_________________________________________________________________\n",
      "pool1 (MaxPooling2D)         (None, 60, 60, 64)        0         \n",
      "_________________________________________________________________\n",
      "conv2_1 (Conv2D)             (None, 60, 60, 128)       73856     \n",
      "_________________________________________________________________\n",
      "conv2_2 (Conv2D)             (None, 60, 60, 128)       147584    \n",
      "_________________________________________________________________\n",
      "pool2 (MaxPooling2D)         (None, 30, 30, 128)       0         \n",
      "_________________________________________________________________\n",
      "conv3_1 (Conv2D)             (None, 30, 30, 256)       295168    \n",
      "_________________________________________________________________\n",
      "conv3_2 (Conv2D)             (None, 30, 30, 256)       590080    \n",
      "_________________________________________________________________\n",
      "conv3_3 (Conv2D)             (None, 30, 30, 256)       590080    \n",
      "_________________________________________________________________\n",
      "pool3 (MaxPooling2D)         (None, 15, 15, 256)       0         \n",
      "_________________________________________________________________\n",
      "conv4_1 (Conv2D)             (None, 15, 15, 512)       1180160   \n",
      "_________________________________________________________________\n",
      "conv4_2 (Conv2D)             (None, 15, 15, 512)       2359808   \n",
      "_________________________________________________________________\n",
      "conv4_3 (Conv2D)             (None, 15, 15, 512)       2359808   \n",
      "_________________________________________________________________\n",
      "pool4 (MaxPooling2D)         (None, 7, 7, 512)         0         \n",
      "_________________________________________________________________\n",
      "conv5_1 (Conv2D)             (None, 7, 7, 512)         2359808   \n",
      "_________________________________________________________________\n",
      "conv5_2 (Conv2D)             (None, 7, 7, 512)         2359808   \n",
      "_________________________________________________________________\n",
      "conv5_3 (Conv2D)             (None, 7, 7, 512)         2359808   \n",
      "_________________________________________________________________\n",
      "pool5 (MaxPooling2D)         (None, 3, 3, 512)         0         \n",
      "=================================================================\n",
      "Total params: 14,714,688\n",
      "Trainable params: 0\n",
      "Non-trainable params: 14,714,688\n",
      "_________________________________________________________________\n"
     ]
    }
   ],
   "source": [
    "conv_base.summary()"
   ]
  },
  {
   "cell_type": "code",
   "execution_count": 30,
   "metadata": {
    "executionInfo": {
     "elapsed": 1450,
     "status": "ok",
     "timestamp": 1602525190321,
     "user": {
      "displayName": "Adarsh Ghimire",
      "photoUrl": "https://lh3.googleusercontent.com/a-/AOh14GiJ9rHrsqUAXXZP8Syzv-mcB6GhQzMybMiiiSFyKw=s64",
      "userId": "03649801403498526934"
     },
     "user_tz": -345
    },
    "id": "KCBKZp9vG2zW"
   },
   "outputs": [],
   "source": [
    "last_layer = conv_base.get_layer('pool5').output\n",
    "\n",
    "x = Flatten(name='flatten')(last_layer)\n",
    "x = Dropout(DROP_OUT_RATE)(x)\n",
    "x = Dense(1024, activation='relu', name='fc6')(x)\n",
    "# x = Dropout(DROP_OUT_RATE)(x)\n",
    "# x = Dense(256, activation='relu', name='fc7')(x)\n",
    "out = Dense(7, activation='softmax', name='classifier')(x)\n",
    "\n",
    "model = Model(conv_base.input, out)\n",
    "reduce_lr = ReduceLROnPlateau(monitor='val_loss', factor=0.5, patience=10, min_lr=0.00001)\n",
    "model.compile(optimizer=optimizers.Adam(learning_rate=0.001,), loss='categorical_crossentropy', metrics=['accuracy'])"
   ]
  },
  {
   "cell_type": "code",
   "execution_count": 24,
   "metadata": {
    "colab": {
     "base_uri": "https://localhost:8080/",
     "height": 935
    },
    "executionInfo": {
     "elapsed": 775,
     "status": "ok",
     "timestamp": 1602524997024,
     "user": {
      "displayName": "Adarsh Ghimire",
      "photoUrl": "https://lh3.googleusercontent.com/a-/AOh14GiJ9rHrsqUAXXZP8Syzv-mcB6GhQzMybMiiiSFyKw=s64",
      "userId": "03649801403498526934"
     },
     "user_tz": -345
    },
    "id": "aAd4XKGCJ2ta",
    "outputId": "92c0a42e-8bb0-45b6-831d-cec6c0bf89a7"
   },
   "outputs": [
    {
     "name": "stdout",
     "output_type": "stream",
     "text": [
      "Model: \"model_1\"\n",
      "_________________________________________________________________\n",
      "Layer (type)                 Output Shape              Param #   \n",
      "=================================================================\n",
      "input_1 (InputLayer)         (None, 120, 120, 3)       0         \n",
      "_________________________________________________________________\n",
      "conv1_1 (Conv2D)             (None, 120, 120, 64)      1792      \n",
      "_________________________________________________________________\n",
      "conv1_2 (Conv2D)             (None, 120, 120, 64)      36928     \n",
      "_________________________________________________________________\n",
      "pool1 (MaxPooling2D)         (None, 60, 60, 64)        0         \n",
      "_________________________________________________________________\n",
      "conv2_1 (Conv2D)             (None, 60, 60, 128)       73856     \n",
      "_________________________________________________________________\n",
      "conv2_2 (Conv2D)             (None, 60, 60, 128)       147584    \n",
      "_________________________________________________________________\n",
      "pool2 (MaxPooling2D)         (None, 30, 30, 128)       0         \n",
      "_________________________________________________________________\n",
      "conv3_1 (Conv2D)             (None, 30, 30, 256)       295168    \n",
      "_________________________________________________________________\n",
      "conv3_2 (Conv2D)             (None, 30, 30, 256)       590080    \n",
      "_________________________________________________________________\n",
      "conv3_3 (Conv2D)             (None, 30, 30, 256)       590080    \n",
      "_________________________________________________________________\n",
      "pool3 (MaxPooling2D)         (None, 15, 15, 256)       0         \n",
      "_________________________________________________________________\n",
      "conv4_1 (Conv2D)             (None, 15, 15, 512)       1180160   \n",
      "_________________________________________________________________\n",
      "conv4_2 (Conv2D)             (None, 15, 15, 512)       2359808   \n",
      "_________________________________________________________________\n",
      "conv4_3 (Conv2D)             (None, 15, 15, 512)       2359808   \n",
      "_________________________________________________________________\n",
      "pool4 (MaxPooling2D)         (None, 7, 7, 512)         0         \n",
      "_________________________________________________________________\n",
      "conv5_1 (Conv2D)             (None, 7, 7, 512)         2359808   \n",
      "_________________________________________________________________\n",
      "conv5_2 (Conv2D)             (None, 7, 7, 512)         2359808   \n",
      "_________________________________________________________________\n",
      "conv5_3 (Conv2D)             (None, 7, 7, 512)         2359808   \n",
      "_________________________________________________________________\n",
      "pool5 (MaxPooling2D)         (None, 3, 3, 512)         0         \n",
      "_________________________________________________________________\n",
      "flatten (Flatten)            (None, 4608)              0         \n",
      "_________________________________________________________________\n",
      "dropout_1 (Dropout)          (None, 4608)              0         \n",
      "_________________________________________________________________\n",
      "fc6 (Dense)                  (None, 1024)              4719616   \n",
      "_________________________________________________________________\n",
      "classifier (Dense)           (None, 7)                 7175      \n",
      "=================================================================\n",
      "Total params: 19,441,479\n",
      "Trainable params: 4,726,791\n",
      "Non-trainable params: 14,714,688\n",
      "_________________________________________________________________\n"
     ]
    }
   ],
   "source": [
    "model.summary()"
   ]
  },
  {
   "cell_type": "code",
   "execution_count": 35,
   "metadata": {
    "colab": {
     "base_uri": "https://localhost:8080/",
     "height": 68
    },
    "executionInfo": {
     "elapsed": 2775,
     "status": "ok",
     "timestamp": 1602529749688,
     "user": {
      "displayName": "Adarsh Ghimire",
      "photoUrl": "https://lh3.googleusercontent.com/a-/AOh14GiJ9rHrsqUAXXZP8Syzv-mcB6GhQzMybMiiiSFyKw=s64",
      "userId": "03649801403498526934"
     },
     "user_tz": -345
    },
    "id": "Agblokee2ABa",
    "outputId": "a132b293-31ad-45c9-afcf-96e56754c935"
   },
   "outputs": [
    {
     "name": "stdout",
     "output_type": "stream",
     "text": [
      "Found 28709 images belonging to 7 classes.\n",
      "Found 3589 images belonging to 7 classes.\n",
      "Found 3589 images belonging to 7 classes.\n"
     ]
    }
   ],
   "source": [
    "# Image Data Generator setup\n",
    "train_datagen = ImageDataGenerator(rescale=1./255,\n",
    "                                   featurewise_center=False,\n",
    "                                   featurewise_std_normalization=False,\n",
    "                                   rotation_range=90,\n",
    "                                   width_shift_range=0.1,\n",
    "                                   height_shift_range=0.1,\n",
    "                                   zoom_range=0.1,\n",
    "                                   horizontal_flip=True\n",
    "                                   )\n",
    "validation_datagen = ImageDataGenerator(rescale=1./255)\n",
    "test_datagen = ImageDataGenerator(rescale=1./255)\n",
    "train_generator = train_datagen.flow_from_directory(\n",
    "    train_dir,\n",
    "    target_size = (120, 120),\n",
    "    batch_size = 50,\n",
    "    shuffle = True,\n",
    "    class_mode='categorical'\n",
    ")\n",
    "validation_generator = validation_datagen.flow_from_directory(\n",
    "    validation_dir,\n",
    "    target_size = (120, 120),\n",
    "    batch_size = 50,\n",
    "    class_mode = 'categorical'\n",
    ")\n",
    "test_generator = test_datagen.flow_from_directory(\n",
    "    test_dir,\n",
    "    target_size = (120, 120),\n",
    "    batch_size = 50,\n",
    "    class_mode = 'categorical'\n",
    ")"
   ]
  },
  {
   "cell_type": "code",
   "execution_count": 26,
   "metadata": {
    "colab": {
     "base_uri": "https://localhost:8080/",
     "height": 68
    },
    "executionInfo": {
     "elapsed": 1149,
     "status": "ok",
     "timestamp": 1602525032251,
     "user": {
      "displayName": "Adarsh Ghimire",
      "photoUrl": "https://lh3.googleusercontent.com/a-/AOh14GiJ9rHrsqUAXXZP8Syzv-mcB6GhQzMybMiiiSFyKw=s64",
      "userId": "03649801403498526934"
     },
     "user_tz": -345
    },
    "id": "J0Sy9nUvkPwB",
    "outputId": "9d672747-b56b-4f05-92d1-2f2e2545414d"
   },
   "outputs": [
    {
     "name": "stdout",
     "output_type": "stream",
     "text": [
      "{'Angry': 0, 'Disgust': 1, 'Fear': 2, 'Happy': 3, 'Neutral': 4, 'Sad': 5, 'Surprise': 6}\n",
      "{'Angry': 0, 'Disgust': 1, 'Fear': 2, 'Happy': 3, 'Neutral': 4, 'Sad': 5, 'Surprise': 6}\n",
      "{'Angry': 0, 'Disgust': 1, 'Fear': 2, 'Happy': 3, 'Neutral': 4, 'Sad': 5, 'Surprise': 6}\n"
     ]
    }
   ],
   "source": [
    "print(train_generator.class_indices)\n",
    "print(validation_generator.class_indices)\n",
    "print(test_generator.class_indices)"
   ]
  },
  {
   "cell_type": "code",
   "execution_count": 27,
   "metadata": {
    "colab": {
     "base_uri": "https://localhost:8080/",
     "height": 136
    },
    "executionInfo": {
     "elapsed": 1217,
     "status": "ok",
     "timestamp": 1602525041054,
     "user": {
      "displayName": "Adarsh Ghimire",
      "photoUrl": "https://lh3.googleusercontent.com/a-/AOh14GiJ9rHrsqUAXXZP8Syzv-mcB6GhQzMybMiiiSFyKw=s64",
      "userId": "03649801403498526934"
     },
     "user_tz": -345
    },
    "id": "vbEJtJtRxtM0",
    "outputId": "c83df564-bf74-4fc8-b5e4-90431d62374f"
   },
   "outputs": [
    {
     "data": {
      "text/plain": [
       "[1.0266046844269623,\n",
       " 9.406618610747051,\n",
       " 1.0010460615781582,\n",
       " 0.5684387684387684,\n",
       " 0.8260394187886635,\n",
       " 0.8491274770777877,\n",
       " 1.293372978330405]"
      ]
     },
     "execution_count": 27,
     "metadata": {
      "tags": []
     },
     "output_type": "execute_result"
    }
   ],
   "source": [
    "# # Balancing the class weights\n",
    "# data = np.genfromtxt(\"/content/drive/My Drive/ENGR635-Deep Learning System Design Project/Dataset/fer2013/fer2013.csv\", delimiter=',',dtype=None, encoding='utf8')\n",
    "# print(data.shape)\n",
    "# print(data[0])\n",
    "\n",
    "# # Putting labels\n",
    "# y_train = data[1:, 0].astype(np.int8)\n",
    "# print(y_train.shape)\n",
    "# print(y_train)\n",
    "# print(np.unique(y_train, return_counts=True))\n",
    "\n",
    "# # Computing balanced class weights using scikit learn compute_class_weight\n",
    "# class_weights = class_weight.compute_class_weight('balanced',\n",
    "#                                                   np.unique(y_train),\n",
    "#                                                   y_train)\n",
    "\n",
    "# print(class_weights)\n",
    "# del data # For saving memory\n",
    "def class_weight_computer():\n",
    "  \"\"\"\n",
    "    Training Data categories and number of samples in them\n",
    "    Angry: 3995\n",
    "    Disgust: 436\n",
    "    Fear: 4097\n",
    "    Happy: 7215\n",
    "    Neutral: 4965\n",
    "    Sad: 4830\n",
    "    Surprise: 3171\n",
    "  \"\"\"\n",
    "  samples_per_label = [3995, 436, 4097, 7215, 4965, 4830, 3171]\n",
    "  total_samples = sum(samples_per_label)\n",
    "  return [total_samples/(7*i) for i in samples_per_label] # https://scikit-learn.org/stable/modules/generated/sklearn.utils.class_weight.compute_class_weight.html\n",
    "class_weight_computer()"
   ]
  },
  {
   "cell_type": "code",
   "execution_count": 28,
   "metadata": {
    "colab": {
     "base_uri": "https://localhost:8080/",
     "height": 54
    },
    "executionInfo": {
     "elapsed": 1347,
     "status": "ok",
     "timestamp": 1602525089945,
     "user": {
      "displayName": "Adarsh Ghimire",
      "photoUrl": "https://lh3.googleusercontent.com/a-/AOh14GiJ9rHrsqUAXXZP8Syzv-mcB6GhQzMybMiiiSFyKw=s64",
      "userId": "03649801403498526934"
     },
     "user_tz": -345
    },
    "id": "sek0B0A84L9G",
    "outputId": "3a33821c-0cca-4cd2-a2c9-5e61bbe85d3b"
   },
   "outputs": [
    {
     "name": "stdout",
     "output_type": "stream",
     "text": [
      "[1.0266046844269623, 9.406618610747051, 1.0010460615781582, 0.5684387684387684, 0.8260394187886635, 0.8491274770777877, 1.293372978330405]\n"
     ]
    }
   ],
   "source": [
    "class_weights = class_weight_computer()\n",
    "print(class_weights)"
   ]
  },
  {
   "cell_type": "code",
   "execution_count": 31,
   "metadata": {
    "colab": {
     "base_uri": "https://localhost:8080/",
     "height": 1000
    },
    "executionInfo": {
     "elapsed": 4500253,
     "status": "ok",
     "timestamp": 1602529701582,
     "user": {
      "displayName": "Adarsh Ghimire",
      "photoUrl": "https://lh3.googleusercontent.com/a-/AOh14GiJ9rHrsqUAXXZP8Syzv-mcB6GhQzMybMiiiSFyKw=s64",
      "userId": "03649801403498526934"
     },
     "user_tz": -345
    },
    "id": "kyDmy4jw2AB3",
    "outputId": "d95c5b21-40f9-4a71-8584-025111667ee9"
   },
   "outputs": [
    {
     "name": "stdout",
     "output_type": "stream",
     "text": [
      "Epoch 1/30\n",
      "574/574 [==============================] - 153s 267ms/step - loss: 1.5617 - accuracy: 0.3870 - val_loss: 0.9616 - val_accuracy: 0.4932\n",
      "Epoch 2/30\n",
      "574/574 [==============================] - 153s 267ms/step - loss: 1.4871 - accuracy: 0.4240 - val_loss: 1.2517 - val_accuracy: 0.5284\n",
      "Epoch 3/30\n",
      "574/574 [==============================] - 152s 265ms/step - loss: 1.4520 - accuracy: 0.4393 - val_loss: 1.4028 - val_accuracy: 0.5434\n",
      "Epoch 4/30\n",
      "574/574 [==============================] - 152s 264ms/step - loss: 1.4334 - accuracy: 0.4492 - val_loss: 1.3362 - val_accuracy: 0.5307\n",
      "Epoch 5/30\n",
      "574/574 [==============================] - 152s 264ms/step - loss: 1.4100 - accuracy: 0.4614 - val_loss: 0.9698 - val_accuracy: 0.5764\n",
      "Epoch 6/30\n",
      "574/574 [==============================] - 151s 263ms/step - loss: 1.4033 - accuracy: 0.4580 - val_loss: 1.2003 - val_accuracy: 0.5711\n",
      "Epoch 7/30\n",
      "574/574 [==============================] - 151s 263ms/step - loss: 1.3863 - accuracy: 0.4686 - val_loss: 1.0809 - val_accuracy: 0.5592\n",
      "Epoch 8/30\n",
      "574/574 [==============================] - 150s 262ms/step - loss: 1.3755 - accuracy: 0.4724 - val_loss: 1.3072 - val_accuracy: 0.5657\n",
      "Epoch 9/30\n",
      "574/574 [==============================] - 150s 262ms/step - loss: 1.3713 - accuracy: 0.4712 - val_loss: 1.2546 - val_accuracy: 0.5812\n",
      "Epoch 10/30\n",
      "574/574 [==============================] - 150s 261ms/step - loss: 1.3544 - accuracy: 0.4800 - val_loss: 1.1570 - val_accuracy: 0.5654\n",
      "Epoch 11/30\n",
      "574/574 [==============================] - 150s 260ms/step - loss: 1.3499 - accuracy: 0.4790 - val_loss: 1.2807 - val_accuracy: 0.5688\n",
      "Epoch 12/30\n",
      "574/574 [==============================] - 150s 261ms/step - loss: 1.3310 - accuracy: 0.4886 - val_loss: 1.1460 - val_accuracy: 0.5815\n",
      "Epoch 13/30\n",
      "574/574 [==============================] - 150s 261ms/step - loss: 1.3201 - accuracy: 0.4991 - val_loss: 1.1937 - val_accuracy: 0.5948\n",
      "Epoch 14/30\n",
      "574/574 [==============================] - 151s 263ms/step - loss: 1.3090 - accuracy: 0.5014 - val_loss: 1.1702 - val_accuracy: 0.5810\n",
      "Epoch 15/30\n",
      "574/574 [==============================] - 150s 261ms/step - loss: 1.3151 - accuracy: 0.4992 - val_loss: 1.1978 - val_accuracy: 0.5860\n",
      "Epoch 16/30\n",
      "574/574 [==============================] - 150s 261ms/step - loss: 1.3037 - accuracy: 0.5029 - val_loss: 0.9770 - val_accuracy: 0.5951\n",
      "Epoch 17/30\n",
      "574/574 [==============================] - 149s 260ms/step - loss: 1.2967 - accuracy: 0.5060 - val_loss: 1.0020 - val_accuracy: 0.5880\n",
      "Epoch 18/30\n",
      "574/574 [==============================] - 150s 261ms/step - loss: 1.2930 - accuracy: 0.5038 - val_loss: 1.1501 - val_accuracy: 0.5812\n",
      "Epoch 19/30\n",
      "574/574 [==============================] - 149s 259ms/step - loss: 1.2932 - accuracy: 0.5073 - val_loss: 1.3307 - val_accuracy: 0.5877\n",
      "Epoch 20/30\n",
      "574/574 [==============================] - 149s 260ms/step - loss: 1.2879 - accuracy: 0.5081 - val_loss: 1.2236 - val_accuracy: 0.5897\n",
      "Epoch 21/30\n",
      "574/574 [==============================] - 149s 259ms/step - loss: 1.2762 - accuracy: 0.5139 - val_loss: 1.1386 - val_accuracy: 0.5971\n",
      "Epoch 22/30\n",
      "574/574 [==============================] - 149s 260ms/step - loss: 1.2692 - accuracy: 0.5157 - val_loss: 0.8983 - val_accuracy: 0.5866\n",
      "Epoch 23/30\n",
      "574/574 [==============================] - 148s 259ms/step - loss: 1.2640 - accuracy: 0.5186 - val_loss: 1.1133 - val_accuracy: 0.5948\n",
      "Epoch 24/30\n",
      "574/574 [==============================] - 148s 259ms/step - loss: 1.2607 - accuracy: 0.5190 - val_loss: 1.0727 - val_accuracy: 0.6109\n",
      "Epoch 25/30\n",
      "574/574 [==============================] - 148s 258ms/step - loss: 1.2573 - accuracy: 0.5198 - val_loss: 1.2171 - val_accuracy: 0.5928\n",
      "Epoch 26/30\n",
      "574/574 [==============================] - 149s 259ms/step - loss: 1.2512 - accuracy: 0.5259 - val_loss: 0.8027 - val_accuracy: 0.6132\n",
      "Epoch 27/30\n",
      "574/574 [==============================] - 149s 259ms/step - loss: 1.2487 - accuracy: 0.5281 - val_loss: 1.2274 - val_accuracy: 0.5889\n",
      "Epoch 28/30\n",
      "574/574 [==============================] - 149s 260ms/step - loss: 1.2450 - accuracy: 0.5271 - val_loss: 1.2083 - val_accuracy: 0.6033\n",
      "Epoch 29/30\n",
      "574/574 [==============================] - 149s 259ms/step - loss: 1.2511 - accuracy: 0.5228 - val_loss: 0.9419 - val_accuracy: 0.6095\n",
      "Epoch 30/30\n",
      "574/574 [==============================] - 149s 259ms/step - loss: 1.2373 - accuracy: 0.5318 - val_loss: 1.3841 - val_accuracy: 0.5979\n"
     ]
    }
   ],
   "source": [
    "history = model.fit_generator(\n",
    "    train_generator,\n",
    "    steps_per_epoch=28709//50,\n",
    "    epochs=30,\n",
    "    validation_data=validation_generator,\n",
    "    validation_steps=3589//50,\n",
    "    shuffle=True,\n",
    "    class_weight=class_weights,\n",
    "    callbacks=[reduce_lr]\n",
    ")"
   ]
  },
  {
   "cell_type": "code",
   "execution_count": 32,
   "metadata": {
    "colab": {
     "base_uri": "https://localhost:8080/",
     "height": 545
    },
    "executionInfo": {
     "elapsed": 2043,
     "status": "ok",
     "timestamp": 1602529709529,
     "user": {
      "displayName": "Adarsh Ghimire",
      "photoUrl": "https://lh3.googleusercontent.com/a-/AOh14GiJ9rHrsqUAXXZP8Syzv-mcB6GhQzMybMiiiSFyKw=s64",
      "userId": "03649801403498526934"
     },
     "user_tz": -345
    },
    "id": "zEpAZsie2AB9",
    "outputId": "9f4ea78c-369c-4867-cbff-2a6a1541d2ad"
   },
   "outputs": [
    {
     "data": {
      "image/png": "[encoded data removed]",
      "text/plain": [
       "<Figure size 432x288 with 1 Axes>"
      ]
     },
     "metadata": {
      "needs_background": "light",
      "tags": []
     },
     "output_type": "display_data"
    },
    {
     "data": {
      "image/png": "[encoded data removed]",
      "text/plain": [
       "<Figure size 432x288 with 1 Axes>"
      ]
     },
     "metadata": {
      "needs_background": "light",
      "tags": []
     },
     "output_type": "display_data"
    }
   ],
   "source": [
    "import matplotlib.pyplot as plt\n",
    "\n",
    "acc = history.history['accuracy']\n",
    "loss = history.history['loss']\n",
    "\n",
    "val_acc = history.history['val_accuracy']\n",
    "val_loss = history.history['val_loss']\n",
    "\n",
    "epochs = range(1, len(acc)+1)\n",
    "\n",
    "plt.plot(epochs, acc, 'r', label=\"Training accuracy\")\n",
    "plt.plot(epochs, val_acc, 'b', label=\"Validation accuracy\")\n",
    "plt.title('Training and Validation Accuracy with freezed Conv base of VGG16 trained on VGGFACE2')\n",
    "plt.legend()\n",
    "\n",
    "plt.figure()\n",
    "plt.plot(epochs, loss, 'r', label=\"Training accuracy\")\n",
    "plt.plot(epochs, val_loss, 'b', label=\"Validation accuracy\")\n",
    "plt.title('Training and Validation Loss with freeze conv base of VGG16 trained on VGGFACE2')\n",
    "plt.legend()\n",
    "plt.show()"
   ]
  },
  {
   "cell_type": "code",
   "execution_count": 33,
   "metadata": {
    "colab": {
     "base_uri": "https://localhost:8080/",
     "height": 68
    },
    "executionInfo": {
     "elapsed": 11632,
     "status": "ok",
     "timestamp": 1602529728908,
     "user": {
      "displayName": "Adarsh Ghimire",
      "photoUrl": "https://lh3.googleusercontent.com/a-/AOh14GiJ9rHrsqUAXXZP8Syzv-mcB6GhQzMybMiiiSFyKw=s64",
      "userId": "03649801403498526934"
     },
     "user_tz": -345
    },
    "id": "97OLeZqGMUvH",
    "outputId": "324508e6-c795-481c-95e5-b3a6f364f3a1"
   },
   "outputs": [
    {
     "name": "stdout",
     "output_type": "stream",
     "text": [
      "\n",
      "Evaluate on Validation data\n",
      "Validation loss, Validation Accuracy: [0.9663847088813782, 0.6025351881980896]\n"
     ]
    }
   ],
   "source": [
    "print('\\nEvaluate on Validation data')\n",
    "results_validation = model.evaluate_generator(validation_generator, 3589//50 )\n",
    "print('Validation loss, Validation Accuracy:', results_validation)"
   ]
  },
  {
   "cell_type": "code",
   "execution_count": 36,
   "metadata": {
    "colab": {
     "base_uri": "https://localhost:8080/",
     "height": 68
    },
    "executionInfo": {
     "elapsed": 11595,
     "status": "ok",
     "timestamp": 1602529762911,
     "user": {
      "displayName": "Adarsh Ghimire",
      "photoUrl": "https://lh3.googleusercontent.com/a-/AOh14GiJ9rHrsqUAXXZP8Syzv-mcB6GhQzMybMiiiSFyKw=s64",
      "userId": "03649801403498526934"
     },
     "user_tz": -345
    },
    "id": "Ydw-snGPMhrJ",
    "outputId": "2ee47f39-a7c4-4a22-f9fe-f4d2ef7b7fdf"
   },
   "outputs": [
    {
     "name": "stdout",
     "output_type": "stream",
     "text": [
      "\n",
      "Evaluate on test data\n",
      "test loss, test acc: [1.1724368333816528, 0.610140860080719]\n"
     ]
    }
   ],
   "source": [
    "print('\\nEvaluate on test data')\n",
    "results_test = model.evaluate_generator(test_generator, 3589//50)\n",
    "print('test loss, test acc:', results_test)"
   ]
  },
  {
   "cell_type": "code",
   "execution_count": 37,
   "metadata": {
    "executionInfo": {
     "elapsed": 1212,
     "status": "ok",
     "timestamp": 1602529767349,
     "user": {
      "displayName": "Adarsh Ghimire",
      "photoUrl": "https://lh3.googleusercontent.com/a-/AOh14GiJ9rHrsqUAXXZP8Syzv-mcB6GhQzMybMiiiSFyKw=s64",
      "userId": "03649801403498526934"
     },
     "user_tz": -345
    },
    "id": "hmPrecLaMwpV"
   },
   "outputs": [],
   "source": [
    "EPOCHS = 30\n",
    "epoch_str = '-EPOCHS_' + str(EPOCHS)\n",
    "test_acc = 'test_acc_%.3f' % results_test[1]"
   ]
  },
  {
   "cell_type": "code",
   "execution_count": 38,
   "metadata": {
    "colab": {
     "base_uri": "https://localhost:8080/",
     "height": 51
    },
    "executionInfo": {
     "elapsed": 1409,
     "status": "ok",
     "timestamp": 1602529785420,
     "user": {
      "displayName": "Adarsh Ghimire",
      "photoUrl": "https://lh3.googleusercontent.com/a-/AOh14GiJ9rHrsqUAXXZP8Syzv-mcB6GhQzMybMiiiSFyKw=s64",
      "userId": "03649801403498526934"
     },
     "user_tz": -345
    },
    "id": "iR2kw25cN8gZ",
    "outputId": "02349964-c507-4cd1-85c3-170e15d7dd83"
   },
   "outputs": [
    {
     "name": "stdout",
     "output_type": "stream",
     "text": [
      "-EPOCHS_30\n",
      "test_acc_0.610\n"
     ]
    }
   ],
   "source": [
    "print(epoch_str)\n",
    "print(test_acc)"
   ]
  },
  {
   "cell_type": "code",
   "execution_count": 39,
   "metadata": {
    "executionInfo": {
     "elapsed": 1955,
     "status": "ok",
     "timestamp": 1602529790922,
     "user": {
      "displayName": "Adarsh Ghimire",
      "photoUrl": "https://lh3.googleusercontent.com/a-/AOh14GiJ9rHrsqUAXXZP8Syzv-mcB6GhQzMybMiiiSFyKw=s64",
      "userId": "03649801403498526934"
     },
     "user_tz": -345
    },
    "id": "cfWTZzbvNiG5"
   },
   "outputs": [],
   "source": [
    "# Saving the model\n",
    "model.save(\"drive/My Drive/ENGR635-Deep Learning System Design Project/Models/\" + 'VGG16_VGG_FACE' + epoch_str + test_acc + '.h5')"
   ]
  },
  {
   "cell_type": "code",
   "execution_count": null,
   "metadata": {
    "id": "ISozWwQdOPO1"
   },
   "outputs": [],
   "source": []
  }
 ],
 "metadata": {
  "colab": {
   "collapsed_sections": [],
   "name": "1 Transfer learning with VGG16(VGGFACE) on fer2013.ipynb",
   "provenance": []
  },
  "kernelspec": {
   "display_name": "Python 3",
   "language": "python",
   "name": "python3"
  },
  "language_info": {
   "codemirror_mode": {
    "name": "ipython",
    "version": 3
   },
   "file_extension": ".py",
   "mimetype": "text/x-python",
   "name": "python",
   "nbconvert_exporter": "python",
   "pygments_lexer": "ipython3",
   "version": "3.8.6"
  }
 },
 "nbformat": 4,
 "nbformat_minor": 1
}
