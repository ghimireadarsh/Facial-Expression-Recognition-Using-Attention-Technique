{
 "cells": [
  {
   "cell_type": "code",
   "execution_count": null,
   "metadata": {
    "colab": {
     "base_uri": "https://localhost:8080/"
    },
    "executionInfo": {
     "elapsed": 5825,
     "status": "ok",
     "timestamp": 1606458487237,
     "user": {
      "displayName": "Adarsh Ghimire",
      "photoUrl": "https://lh3.googleusercontent.com/a-/AOh14GiJ9rHrsqUAXXZP8Syzv-mcB6GhQzMybMiiiSFyKw=s64",
      "userId": "03649801403498526934"
     },
     "user_tz": -240
    },
    "id": "LYdUsK7g_NB6",
    "outputId": "d521d5d2-cddb-44d1-9351-44149f579c43"
   },
   "outputs": [],
   "source": [
    "!pip install keras_vggface"
   ]
  },
  {
   "cell_type": "code",
   "execution_count": null,
   "metadata": {
    "colab": {
     "base_uri": "https://localhost:8080/"
    },
    "executionInfo": {
     "elapsed": 5810,
     "status": "ok",
     "timestamp": 1606458487239,
     "user": {
      "displayName": "Adarsh Ghimire",
      "photoUrl": "https://lh3.googleusercontent.com/a-/AOh14GiJ9rHrsqUAXXZP8Syzv-mcB6GhQzMybMiiiSFyKw=s64",
      "userId": "03649801403498526934"
     },
     "user_tz": -240
    },
    "id": "cbw3j1jwAIeg",
    "outputId": "1a0f05b5-e00b-44ea-80ce-e7cdf49f6290"
   },
   "outputs": [],
   "source": [
    "%tensorflow_version 1.x"
   ]
  },
  {
   "cell_type": "code",
   "execution_count": null,
   "metadata": {
    "colab": {
     "base_uri": "https://localhost:8080/"
    },
    "executionInfo": {
     "elapsed": 10789,
     "status": "ok",
     "timestamp": 1606458492233,
     "user": {
      "displayName": "Adarsh Ghimire",
      "photoUrl": "https://lh3.googleusercontent.com/a-/AOh14GiJ9rHrsqUAXXZP8Syzv-mcB6GhQzMybMiiiSFyKw=s64",
      "userId": "03649801403498526934"
     },
     "user_tz": -240
    },
    "id": "z9HZ2zZP2ABG",
    "outputId": "b9044dad-72dc-4985-85a0-3631c8d24f11"
   },
   "outputs": [],
   "source": [
    "import os\n",
    "import numpy as np\n",
    "import tensorflow as tf\n",
    "import keras\n",
    "from keras.engine import  Model\n",
    "from keras.preprocessing.image import ImageDataGenerator\n",
    "from keras.applications import VGG16\n",
    "from keras.models import Sequential\n",
    "from keras.layers import Conv2D, Dense, Dropout, Flatten, GlobalAveragePooling2D\n",
    "from keras import optimizers\n",
    "from keras_vggface.vggface import VGGFace\n",
    "from keras.callbacks import ReduceLROnPlateau"
   ]
  },
  {
   "cell_type": "code",
   "execution_count": null,
   "metadata": {
    "colab": {
     "base_uri": "https://localhost:8080/"
    },
    "executionInfo": {
     "elapsed": 2539,
     "status": "ok",
     "timestamp": 1606458499617,
     "user": {
      "displayName": "Adarsh Ghimire",
      "photoUrl": "https://lh3.googleusercontent.com/a-/AOh14GiJ9rHrsqUAXXZP8Syzv-mcB6GhQzMybMiiiSFyKw=s64",
      "userId": "03649801403498526934"
     },
     "user_tz": -240
    },
    "id": "R3yJCe9SBF8z",
    "outputId": "3952b5f3-8467-46fd-e36b-6ff9bfe3a0e2"
   },
   "outputs": [],
   "source": [
    "print(tf.__version__)\n",
    "print(keras.__version__)"
   ]
  },
  {
   "cell_type": "code",
   "execution_count": null,
   "metadata": {
    "colab": {
     "base_uri": "https://localhost:8080/"
    },
    "executionInfo": {
     "elapsed": 28728,
     "status": "ok",
     "timestamp": 1606458527990,
     "user": {
      "displayName": "Adarsh Ghimire",
      "photoUrl": "https://lh3.googleusercontent.com/a-/AOh14GiJ9rHrsqUAXXZP8Syzv-mcB6GhQzMybMiiiSFyKw=s64",
      "userId": "03649801403498526934"
     },
     "user_tz": -240
    },
    "id": "83225eIsAXf_",
    "outputId": "55f0b76b-b911-48d7-f223-fbb5d7682d81"
   },
   "outputs": [],
   "source": [
    "from google.colab import drive\n",
    "drive.mount('/content/drive')"
   ]
  },
  {
   "cell_type": "markdown",
   "metadata": {
    "id": "BM4OUrNJGaE3"
   },
   "source": [
    "## Data Preparation"
   ]
  },
  {
   "cell_type": "code",
   "execution_count": null,
   "metadata": {
    "colab": {
     "base_uri": "https://localhost:8080/"
    },
    "executionInfo": {
     "elapsed": 13025,
     "status": "ok",
     "timestamp": 1606458530049,
     "user": {
      "displayName": "Adarsh Ghimire",
      "photoUrl": "https://lh3.googleusercontent.com/a-/AOh14GiJ9rHrsqUAXXZP8Syzv-mcB6GhQzMybMiiiSFyKw=s64",
      "userId": "03649801403498526934"
     },
     "user_tz": -240
    },
    "id": "YTswhELQBwSn",
    "outputId": "962b6d6b-c22b-47a6-aa99-957da74756ea"
   },
   "outputs": [],
   "source": [
    "# data are in dataset folder in zipped format\n",
    "!ls \"drive/My Drive/ENGR635-Deep Learning System Design Project/Dataset/fer2013/\""
   ]
  },
  {
   "cell_type": "code",
   "execution_count": null,
   "metadata": {
    "colab": {
     "base_uri": "https://localhost:8080/"
    },
    "executionInfo": {
     "elapsed": 12806,
     "status": "ok",
     "timestamp": 1606458530050,
     "user": {
      "displayName": "Adarsh Ghimire",
      "photoUrl": "https://lh3.googleusercontent.com/a-/AOh14GiJ9rHrsqUAXXZP8Syzv-mcB6GhQzMybMiiiSFyKw=s64",
      "userId": "03649801403498526934"
     },
     "user_tz": -240
    },
    "id": "JlcZtbPnB-_M",
    "outputId": "d514c0b2-7395-40cd-bc11-5b70023261f2"
   },
   "outputs": [],
   "source": [
    "!ls ../content/"
   ]
  },
  {
   "cell_type": "code",
   "execution_count": null,
   "metadata": {
    "id": "-C3Fwdx4BnHD"
   },
   "outputs": [],
   "source": [
    "# This creates a temporary folder in drive root folder, so it will have to be reloaded again when required after terminating the session\n",
    "# Permanent data are stored in dataset in zipped format\n",
    "# This copies the zipped file and store in root of google drive temporarily\n",
    "! rm -rf Training; mkdir Training\n",
    "! unzip -q \"drive/My Drive/ENGR635-Deep Learning System Design Project/Dataset/fer2013/Training.zip\" -d Training\n",
    "\n",
    "! rm -rf Validation; mkdir Validation\n",
    "! unzip -q \"drive/My Drive/ENGR635-Deep Learning System Design Project/Dataset/fer2013/PublicTest.zip\" -d Validation\n",
    "\n",
    "! rm -rf Test; mkdir Test\n",
    "! unzip -q \"drive/My Drive/ENGR635-Deep Learning System Design Project/Dataset/fer2013/PrivateTest.zip\" -d Test"
   ]
  },
  {
   "cell_type": "code",
   "execution_count": null,
   "metadata": {
    "colab": {
     "base_uri": "https://localhost:8080/"
    },
    "executionInfo": {
     "elapsed": 23168,
     "status": "ok",
     "timestamp": 1606458542013,
     "user": {
      "displayName": "Adarsh Ghimire",
      "photoUrl": "https://lh3.googleusercontent.com/a-/AOh14GiJ9rHrsqUAXXZP8Syzv-mcB6GhQzMybMiiiSFyKw=s64",
      "userId": "03649801403498526934"
     },
     "user_tz": -240
    },
    "id": "Q0rEd4qTFZOW",
    "outputId": "945eb5ce-1052-4f49-e606-cdaaad096ff9"
   },
   "outputs": [],
   "source": [
    "!ls"
   ]
  },
  {
   "cell_type": "code",
   "execution_count": null,
   "metadata": {
    "colab": {
     "base_uri": "https://localhost:8080/"
    },
    "executionInfo": {
     "elapsed": 14142,
     "status": "ok",
     "timestamp": 1606373759168,
     "user": {
      "displayName": "Adarsh Ghimire",
      "photoUrl": "https://lh3.googleusercontent.com/a-/AOh14GiJ9rHrsqUAXXZP8Syzv-mcB6GhQzMybMiiiSFyKw=s64",
      "userId": "03649801403498526934"
     },
     "user_tz": -240
    },
    "id": "lVqOHBZ2Ek2p",
    "outputId": "21a45b36-8f44-455a-b0ac-b77649d5b903"
   },
   "outputs": [],
   "source": [
    "!ls -l Training/"
   ]
  },
  {
   "cell_type": "code",
   "execution_count": null,
   "metadata": {
    "colab": {
     "base_uri": "https://localhost:8080/"
    },
    "executionInfo": {
     "elapsed": 14542,
     "status": "ok",
     "timestamp": 1606373759582,
     "user": {
      "displayName": "Adarsh Ghimire",
      "photoUrl": "https://lh3.googleusercontent.com/a-/AOh14GiJ9rHrsqUAXXZP8Syzv-mcB6GhQzMybMiiiSFyKw=s64",
      "userId": "03649801403498526934"
     },
     "user_tz": -240
    },
    "id": "9J_Y3AuiEvLH",
    "outputId": "1080dd5c-14bf-4a2c-abb5-fedfe313402a"
   },
   "outputs": [],
   "source": [
    "%%bash\n",
    "root='Training/'\n",
    "IFS=$(echo -en \"\\n\\b\")\n",
    "(for dir in $(ls -1 \"$root\")\n",
    "    do printf \"$dir: \" && ls -i \"$root$dir\" | wc -l\n",
    " done)"
   ]
  },
  {
   "cell_type": "code",
   "execution_count": null,
   "metadata": {
    "colab": {
     "base_uri": "https://localhost:8080/"
    },
    "executionInfo": {
     "elapsed": 14529,
     "status": "ok",
     "timestamp": 1606373759583,
     "user": {
      "displayName": "Adarsh Ghimire",
      "photoUrl": "https://lh3.googleusercontent.com/a-/AOh14GiJ9rHrsqUAXXZP8Syzv-mcB6GhQzMybMiiiSFyKw=s64",
      "userId": "03649801403498526934"
     },
     "user_tz": -240
    },
    "id": "PuFgVnVqFIr-",
    "outputId": "5a0148ce-1bc8-49e6-c46a-aae0f2377796"
   },
   "outputs": [],
   "source": [
    "%%bash\n",
    "root='Validation/'\n",
    "IFS=$(echo -en \"\\n\\b\")\n",
    "(for dir in $(ls -1 \"$root\")\n",
    "    do printf \"$dir: \" && ls -i \"$root$dir\" | wc -l\n",
    " done)"
   ]
  },
  {
   "cell_type": "code",
   "execution_count": null,
   "metadata": {
    "colab": {
     "base_uri": "https://localhost:8080/"
    },
    "executionInfo": {
     "elapsed": 13983,
     "status": "ok",
     "timestamp": 1606373759584,
     "user": {
      "displayName": "Adarsh Ghimire",
      "photoUrl": "https://lh3.googleusercontent.com/a-/AOh14GiJ9rHrsqUAXXZP8Syzv-mcB6GhQzMybMiiiSFyKw=s64",
      "userId": "03649801403498526934"
     },
     "user_tz": -240
    },
    "id": "yunR8QsDFfS7",
    "outputId": "5814922e-5a05-45cf-aa4a-118bca02a376"
   },
   "outputs": [],
   "source": [
    "%%bash\n",
    "root='Test/'\n",
    "IFS=$(echo -en \"\\n\\b\")\n",
    "(for dir in $(ls -1 \"$root\")\n",
    "    do printf \"$dir: \" && ls -i \"$root$dir\" | wc -l\n",
    " done)"
   ]
  },
  {
   "cell_type": "code",
   "execution_count": null,
   "metadata": {
    "id": "tUjWv1Ty2ABV"
   },
   "outputs": [],
   "source": [
    "train_dir = \"Training/\"\n",
    "validation_dir = \"Validation/\"\n",
    "test_dir = \"Test/\""
   ]
  },
  {
   "cell_type": "markdown",
   "metadata": {
    "id": "kc4QatxPGVgf"
   },
   "source": [
    "## All data are ready"
   ]
  },
  {
   "cell_type": "code",
   "execution_count": null,
   "metadata": {
    "id": "w07W0uLlbA-t"
   },
   "outputs": [],
   "source": [
    "# Setting image height and width\n",
    "img_height = 224\n",
    "img_width = 224"
   ]
  },
  {
   "cell_type": "code",
   "execution_count": null,
   "metadata": {},
   "outputs": [],
   "source": [
    "# Image Data Generator setup\n",
    "train_datagen = ImageDataGenerator(rescale=1./255,\n",
    "                                   featurewise_center=False,\n",
    "                                   featurewise_std_normalization=False,\n",
    "                                   rotation_range=30,\n",
    "                                   width_shift_range=0.1,\n",
    "                                   height_shift_range=0.1,\n",
    "                                   zoom_range=0.1,\n",
    "                                   horizontal_flip=True\n",
    "                                   )\n",
    "validation_datagen = ImageDataGenerator(rescale=1./255)\n",
    "test_datagen = ImageDataGenerator(rescale=1./255)\n",
    "train_generator = train_datagen.flow_from_directory(\n",
    "    train_dir,\n",
    "    target_size = (img_height,img_width),\n",
    "    batch_size = 50,\n",
    "    shuffle = True,\n",
    "    class_mode='categorical'\n",
    ")\n",
    "validation_generator = validation_datagen.flow_from_directory(\n",
    "    validation_dir,\n",
    "    target_size = (img_height,img_width),\n",
    "    batch_size = 50,\n",
    "    class_mode = 'categorical'\n",
    ")\n",
    "test_generator = test_datagen.flow_from_directory(\n",
    "    test_dir,\n",
    "    target_size = (img_height,img_width),\n",
    "    batch_size = 50,\n",
    "    class_mode = 'categorical'\n",
    ")"
   ]
  },
  {
   "cell_type": "code",
   "execution_count": null,
   "metadata": {},
   "outputs": [],
   "source": [
    "print(train_generator.class_indices)\n",
    "print(validation_generator.class_indices)\n",
    "print(test_generator.class_indices)"
   ]
  },
  {
   "cell_type": "code",
   "execution_count": null,
   "metadata": {},
   "outputs": [],
   "source": [
    "def class_weight_computer():\n",
    "  \"\"\"\n",
    "    Training Data categories and number of samples in them\n",
    "    Angry: 3995\n",
    "    Disgust: 436\n",
    "    Fear: 4097\n",
    "    Happy: 7215\n",
    "    Neutral: 4965\n",
    "    Sad: 4830\n",
    "    Surprise: 3171\n",
    "  \"\"\"\n",
    "  samples_per_label = [3995, 436, 4097, 7215, 4965, 4830, 3171]\n",
    "  total_samples = sum(samples_per_label)\n",
    "  return dict([(i, total_samples/(7*j)) for (i,j) in enumerate(samples_per_label)]) # https://scikit-learn.org/stable/modules/generated/sklearn.utils.class_weight.compute_class_weight.html\n",
    "class_weights = class_weight_computer()"
   ]
  },
  {
   "cell_type": "markdown",
   "metadata": {},
   "source": [
    "### Loading the pretrained model"
   ]
  },
  {
   "cell_type": "code",
   "execution_count": null,
   "metadata": {
    "colab": {
     "base_uri": "https://localhost:8080/"
    },
    "executionInfo": {
     "elapsed": 35471,
     "status": "ok",
     "timestamp": 1606458558760,
     "user": {
      "displayName": "Adarsh Ghimire",
      "photoUrl": "https://lh3.googleusercontent.com/a-/AOh14GiJ9rHrsqUAXXZP8Syzv-mcB6GhQzMybMiiiSFyKw=s64",
      "userId": "03649801403498526934"
     },
     "user_tz": -240
    },
    "id": "RABx6AF0GUcK",
    "outputId": "ba316eae-82e1-4791-f4c0-30a8903232e1"
   },
   "outputs": [],
   "source": [
    "# https://github.com/rcmalli/keras-vggface#projects--blog-posts\n",
    "conv_base = VGGFace(model='vgg16',\n",
    "                  include_top = False,\n",
    "                  input_shape = (img_height, img_width, 3))"
   ]
  },
  {
   "cell_type": "code",
   "execution_count": null,
   "metadata": {
    "colab": {
     "base_uri": "https://localhost:8080/"
    },
    "executionInfo": {
     "elapsed": 33809,
     "status": "ok",
     "timestamp": 1606458558764,
     "user": {
      "displayName": "Adarsh Ghimire",
      "photoUrl": "https://lh3.googleusercontent.com/a-/AOh14GiJ9rHrsqUAXXZP8Syzv-mcB6GhQzMybMiiiSFyKw=s64",
      "userId": "03649801403498526934"
     },
     "user_tz": -240
    },
    "id": "XFZj8WNrGUNQ",
    "outputId": "82e87f75-276a-4f09-ffaf-39309db8a664"
   },
   "outputs": [],
   "source": [
    "conv_base.summary()"
   ]
  },
  {
   "cell_type": "code",
   "execution_count": null,
   "metadata": {
    "colab": {
     "base_uri": "https://localhost:8080/"
    },
    "executionInfo": {
     "elapsed": 31868,
     "status": "ok",
     "timestamp": 1606458558766,
     "user": {
      "displayName": "Adarsh Ghimire",
      "photoUrl": "https://lh3.googleusercontent.com/a-/AOh14GiJ9rHrsqUAXXZP8Syzv-mcB6GhQzMybMiiiSFyKw=s64",
      "userId": "03649801403498526934"
     },
     "user_tz": -240
    },
    "id": "RM9lRmzvYgnD",
    "outputId": "dffcf3b0-fc1e-4f79-bdc3-ad104234c834"
   },
   "outputs": [],
   "source": [
    "print(\"Number of trainable weights before freezing the conv base:\", len(conv_base.trainable_weights))\n",
    "conv_base.trainable = False\n",
    "print(\"Number of trainable weights after freezing the conv base:\", len(conv_base.trainable_weights))"
   ]
  },
  {
   "cell_type": "code",
   "execution_count": null,
   "metadata": {
    "colab": {
     "base_uri": "https://localhost:8080/"
    },
    "executionInfo": {
     "elapsed": 30968,
     "status": "ok",
     "timestamp": 1606458558767,
     "user": {
      "displayName": "Adarsh Ghimire",
      "photoUrl": "https://lh3.googleusercontent.com/a-/AOh14GiJ9rHrsqUAXXZP8Syzv-mcB6GhQzMybMiiiSFyKw=s64",
      "userId": "03649801403498526934"
     },
     "user_tz": -240
    },
    "id": "0U1OJIxdIVHo",
    "outputId": "e63e79fe-a197-426f-9ae5-56bf78c43b5c"
   },
   "outputs": [],
   "source": [
    "conv_base.summary()"
   ]
  },
  {
   "cell_type": "markdown",
   "metadata": {},
   "source": [
    "### Adding Attention network + Classifier on top of pretrained network"
   ]
  },
  {
   "cell_type": "code",
   "execution_count": null,
   "metadata": {
    "id": "KCBKZp9vG2zW"
   },
   "outputs": [],
   "source": [
    "from keras.layers import Reshape, GlobalMaxPooling2D, GlobalAveragePooling2D, Add, multiply, Activation, Lambda, Concatenate\n",
    "from keras import backend as K\n",
    "from keras.activations import sigmoid\n",
    "DROP_OUT_RATE = 0.5\n",
    "channel_axis = 3\n",
    "ratio = 8\n",
    "kernel_size = 3\n",
    "\n",
    "input_feature = conv_base.output\n",
    "channel = input_feature._keras_shape[channel_axis]\n",
    "\n",
    "shared_layer_one = Dense(channel//ratio,\n",
    "                         activation='relu',\n",
    "                         kernel_initializer='he_normal',\n",
    "                         use_bias=True,\n",
    "                         bias_initializer='zeros')\n",
    "shared_layer_two = Dense(channel,\n",
    "                         kernel_initializer='he_normal',\n",
    "                         use_bias=True,\n",
    "                         bias_initializer='zeros')\n",
    "# For channel attention\n",
    "# Average pooling\n",
    "avg_pool = GlobalAveragePooling2D()(input_feature)\n",
    "# print(avg_pool)\n",
    "avg_pool = Reshape((1,1,channel))(avg_pool)\n",
    "# print(avg_pool)\n",
    "avg_pool = shared_layer_one(avg_pool)\n",
    "avg_pool = shared_layer_two(avg_pool)\n",
    "\n",
    "# Max Pooling\n",
    "max_pool = GlobalMaxPooling2D()(input_feature)\n",
    "max_pool = Reshape((1,1,channel))(max_pool)\n",
    "max_pool = shared_layer_one(max_pool)\n",
    "# print(max_pool)\n",
    "max_pool = shared_layer_two(max_pool)\n",
    "# print(max_pool)\n",
    "\n",
    "cbam_feature = Add()([avg_pool,max_pool])\n",
    "cbam_feature = Activation('sigmoid')(cbam_feature)\n",
    "channel_attention = multiply([input_feature, cbam_feature])\n",
    "# print(channel_attention)\n",
    "\n",
    "# For spatial attention\n",
    "cbam_feature = channel_attention\n",
    "avg_pool = Lambda(lambda x: K.mean(x, axis=3, keepdims=True))(cbam_feature)\n",
    "# print(avg_pool)\n",
    "\n",
    "max_pool = Lambda(lambda x: K.max(x, axis=3, keepdims=True))(cbam_feature)\n",
    "# print(max_pool)\n",
    "\n",
    "concat = Concatenate(axis=3)([avg_pool, max_pool])\n",
    "# print(concat)\n",
    "cbam_feature = Conv2D(filters = 1,\n",
    "                      kernel_size=kernel_size,\n",
    "                      strides=1,\n",
    "                      padding='same',\n",
    "                      activation='sigmoid',\n",
    "                      kernel_initializer='he_normal',\n",
    "                      use_bias=False)(concat)\n",
    "\n",
    "# print(cbam_feature)\n",
    "# spatial_attention = multiply([input_feature, cbam_feature])\n",
    "spatial_attention = multiply([channel_attention, cbam_feature])\n",
    "# print(spatial_attention)\n",
    "\n",
    "# print(input_feature)\n",
    "cbam = Add()([spatial_attention,input_feature]) # Actual CBAM working, adding residual at end\n",
    "# print(cbam)\n",
    "# x = Flatten(name='flatten')(last_layer)\n",
    "x = GlobalAveragePooling2D(name=\"global_average_pool_1\")(cbam) # Global Average pooling after CBAM\n",
    "# x = GlobalMaxPooling2D(name=\"global_max_pool_1\")(cbam) # Global max pooling after CBAM\n",
    "\n",
    "x = Dropout(DROP_OUT_RATE)(x)\n",
    "x = Dense(512, activation='relu', name='fc1')(x)\n",
    "x = Dropout(DROP_OUT_RATE)(x)\n",
    "x = Dense(512, activation='relu', name='fc2')(x)\n",
    "out = Dense(7, activation='softmax', name='classifier')(x)\n",
    "\n",
    "model = Model(conv_base.input, out)"
   ]
  },
  {
   "cell_type": "code",
   "execution_count": null,
   "metadata": {
    "colab": {
     "base_uri": "https://localhost:8080/"
    },
    "executionInfo": {
     "elapsed": 1800,
     "status": "ok",
     "timestamp": 1606458988168,
     "user": {
      "displayName": "Adarsh Ghimire",
      "photoUrl": "https://lh3.googleusercontent.com/a-/AOh14GiJ9rHrsqUAXXZP8Syzv-mcB6GhQzMybMiiiSFyKw=s64",
      "userId": "03649801403498526934"
     },
     "user_tz": -240
    },
    "id": "aAd4XKGCJ2ta",
    "outputId": "d08d5eb2-47ff-49a9-d521-4fc44a9e9cb4"
   },
   "outputs": [],
   "source": [
    "model.summary()"
   ]
  },
  {
   "cell_type": "code",
   "execution_count": null,
   "metadata": {
    "id": "6GR1eVZ4ZnZM"
   },
   "outputs": [],
   "source": [
    "set_trainable = False\n",
    "for layer in model.layers:\n",
    "  if layer.name == \"pool5\":\n",
    "    set_trainable = True\n",
    "  if set_trainable:\n",
    "    layer.trainable = True\n",
    "  else:\n",
    "    layer.trainable = False"
   ]
  },
  {
   "cell_type": "code",
   "execution_count": null,
   "metadata": {
    "id": "gb-WIZFqaDEN"
   },
   "outputs": [],
   "source": [
    "reduce_lr = ReduceLROnPlateau(monitor='val_loss', factor=0.5, patience=10, min_lr=0.0001)\n",
    "model.compile(optimizer=optimizers.Adam(learning_rate=0.001), loss='categorical_crossentropy', metrics=['accuracy'])"
   ]
  },
  {
   "cell_type": "code",
   "execution_count": null,
   "metadata": {
    "colab": {
     "base_uri": "https://localhost:8080/"
    },
    "executionInfo": {
     "elapsed": 1725,
     "status": "ok",
     "timestamp": 1606459002237,
     "user": {
      "displayName": "Adarsh Ghimire",
      "photoUrl": "https://lh3.googleusercontent.com/a-/AOh14GiJ9rHrsqUAXXZP8Syzv-mcB6GhQzMybMiiiSFyKw=s64",
      "userId": "03649801403498526934"
     },
     "user_tz": -240
    },
    "id": "2-SN22xsZ8fu",
    "outputId": "1b50bf49-fec3-4065-85d7-a87c124be0dd"
   },
   "outputs": [],
   "source": [
    "model.summary()"
   ]
  },
  {
   "cell_type": "code",
   "execution_count": null,
   "metadata": {
    "colab": {
     "base_uri": "https://localhost:8080/"
    },
    "executionInfo": {
     "elapsed": 3803343,
     "status": "ok",
     "timestamp": 1606462859027,
     "user": {
      "displayName": "Adarsh Ghimire",
      "photoUrl": "https://lh3.googleusercontent.com/a-/AOh14GiJ9rHrsqUAXXZP8Syzv-mcB6GhQzMybMiiiSFyKw=s64",
      "userId": "03649801403498526934"
     },
     "user_tz": -240
    },
    "id": "zgvZESLDjoFZ",
    "outputId": "6342172b-7695-4963-84a7-8c57154cc978"
   },
   "outputs": [],
   "source": [
    "EPOCHS = 50\n",
    "training_samples = 28709\n",
    "validation_samples = 3589\n",
    "test_samples = 3589\n",
    "history = model.fit_generator(\n",
    "    train_generator,\n",
    "    steps_per_epoch=training_samples//batch_size,\n",
    "    epochs=EPOCHS,\n",
    "    validation_data=validation_generator,\n",
    "    validation_steps=validation_samples//batch_size,\n",
    "    shuffle=True,\n",
    "    class_weight=class_weights,\n",
    "    callbacks=[reduce_lr]\n",
    ")"
   ]
  },
  {
   "cell_type": "code",
   "execution_count": null,
   "metadata": {
    "colab": {
     "base_uri": "https://localhost:8080/",
     "height": 545
    },
    "executionInfo": {
     "elapsed": 2236,
     "status": "ok",
     "timestamp": 1606463491036,
     "user": {
      "displayName": "Adarsh Ghimire",
      "photoUrl": "https://lh3.googleusercontent.com/a-/AOh14GiJ9rHrsqUAXXZP8Syzv-mcB6GhQzMybMiiiSFyKw=s64",
      "userId": "03649801403498526934"
     },
     "user_tz": -240
    },
    "id": "zEpAZsie2AB9",
    "outputId": "9f9bac07-b71f-4275-d850-3ba1555cb634"
   },
   "outputs": [],
   "source": [
    "import matplotlib.pyplot as plt\n",
    "\n",
    "acc = history.history['accuracy']\n",
    "loss = history.history['loss']\n",
    "\n",
    "val_acc = history.history['val_accuracy']\n",
    "val_loss = history.history['val_loss']\n",
    "\n",
    "epochs = range(1, len(acc)+1)\n",
    "\n",
    "plt.plot(epochs, acc, 'r', label=\"Training accuracy\")\n",
    "plt.plot(epochs, val_acc, 'b', label=\"Validation accuracy\")\n",
    "plt.title('Training and Validation Accuracy with CBAM attention')\n",
    "plt.legend()\n",
    "\n",
    "plt.figure()\n",
    "plt.plot(epochs, loss, 'r', label=\"Training Loss\")\n",
    "plt.plot(epochs, val_loss, 'b', label=\"Validation Loss\")\n",
    "plt.title('Training and Validation Loss with CBAM attention')\n",
    "plt.legend()\n",
    "plt.show()"
   ]
  },
  {
   "cell_type": "code",
   "execution_count": null,
   "metadata": {
    "colab": {
     "base_uri": "https://localhost:8080/"
    },
    "executionInfo": {
     "elapsed": 10732,
     "status": "ok",
     "timestamp": 1606378258503,
     "user": {
      "displayName": "Adarsh Ghimire",
      "photoUrl": "https://lh3.googleusercontent.com/a-/AOh14GiJ9rHrsqUAXXZP8Syzv-mcB6GhQzMybMiiiSFyKw=s64",
      "userId": "03649801403498526934"
     },
     "user_tz": -240
    },
    "id": "97OLeZqGMUvH",
    "outputId": "8afb27c3-4f70-4b84-bfd3-809a97aaa4e8"
   },
   "outputs": [],
   "source": [
    "print('\\nEvaluate on Validation data')\n",
    "results_validation = model.evaluate_generator(validation_generator, 3589//50 )\n",
    "print('Validation loss, Validation Accuracy:', results_validation)"
   ]
  },
  {
   "cell_type": "code",
   "execution_count": null,
   "metadata": {
    "id": "hmPrecLaMwpV"
   },
   "outputs": [],
   "source": [
    "epoch_str = '-EPOCHS_' + str(EPOCHS)\n",
    "val_acc = 'val_acc_%.3f' % results_validation[1]"
   ]
  },
  {
   "cell_type": "code",
   "execution_count": null,
   "metadata": {
    "colab": {
     "base_uri": "https://localhost:8080/"
    },
    "executionInfo": {
     "elapsed": 1232,
     "status": "ok",
     "timestamp": 1606463545370,
     "user": {
      "displayName": "Adarsh Ghimire",
      "photoUrl": "https://lh3.googleusercontent.com/a-/AOh14GiJ9rHrsqUAXXZP8Syzv-mcB6GhQzMybMiiiSFyKw=s64",
      "userId": "03649801403498526934"
     },
     "user_tz": -240
    },
    "id": "pHnYnudnsDgW",
    "outputId": "655e812a-4419-4bba-92e7-663f501631dd"
   },
   "outputs": [],
   "source": [
    "# cbam attention\n",
    "print(epoch_str)\n",
    "print(val_acc)"
   ]
  },
  {
   "cell_type": "code",
   "execution_count": null,
   "metadata": {
    "id": "cfWTZzbvNiG5"
   },
   "outputs": [],
   "source": [
    "# Saving the model\n",
    "model.save(\"drive/My Drive/ENGR635-Deep Learning System Design Project/Models/VGG16_VGGFACE_Attention/\" + 'VGG16_VGG_FACE_Attention' + epoch_str + val_acc + '.h5')"
   ]
  },
  {
   "cell_type": "markdown",
   "metadata": {
    "id": "QU0VvIYMQlwj"
   },
   "source": [
    "# Fine Tuning the trained model"
   ]
  },
  {
   "cell_type": "markdown",
   "metadata": {
    "id": "xR4PfskQlu23"
   },
   "source": [
    "### Only last layer of VGG16"
   ]
  },
  {
   "cell_type": "markdown",
   "metadata": {},
   "source": [
    "Image generators and data preparation codes are pre-loaded before the below session"
   ]
  },
  {
   "cell_type": "code",
   "execution_count": null,
   "metadata": {},
   "outputs": [],
   "source": [
    "from keras.models import load_model\n",
    "model = load_model(\"drive/My Drive/ENGR635-Deep Learning System Design Project/Models/VGG16_VGGFACE_Attention/VGG16_VGG_FACE_Attention-EPOCHS_50_val_acc_0.457.h5\")"
   ]
  },
  {
   "cell_type": "code",
   "execution_count": null,
   "metadata": {
    "colab": {
     "base_uri": "https://localhost:8080/"
    },
    "executionInfo": {
     "elapsed": 2034,
     "status": "ok",
     "timestamp": 1606463848579,
     "user": {
      "displayName": "Adarsh Ghimire",
      "photoUrl": "https://lh3.googleusercontent.com/a-/AOh14GiJ9rHrsqUAXXZP8Syzv-mcB6GhQzMybMiiiSFyKw=s64",
      "userId": "03649801403498526934"
     },
     "user_tz": -240
    },
    "id": "kR00TkJ-R7HO",
    "outputId": "924f13ea-7b04-4b4c-9250-8f1049ca41df"
   },
   "outputs": [],
   "source": [
    "model.summary()"
   ]
  },
  {
   "cell_type": "code",
   "execution_count": null,
   "metadata": {
    "colab": {
     "base_uri": "https://localhost:8080/"
    },
    "executionInfo": {
     "elapsed": 1409,
     "status": "ok",
     "timestamp": 1606378349116,
     "user": {
      "displayName": "Adarsh Ghimire",
      "photoUrl": "https://lh3.googleusercontent.com/a-/AOh14GiJ9rHrsqUAXXZP8Syzv-mcB6GhQzMybMiiiSFyKw=s64",
      "userId": "03649801403498526934"
     },
     "user_tz": -240
    },
    "id": "vS4cU4YqK54v",
    "outputId": "410b7bd5-74c6-460a-eeca-12ac2f3da828"
   },
   "outputs": [],
   "source": [
    "model.trainable = True\n",
    "model.summary()"
   ]
  },
  {
   "cell_type": "code",
   "execution_count": null,
   "metadata": {
    "id": "thnhvtoBR-Pu"
   },
   "outputs": [],
   "source": [
    "# Choosing last convolutional blocks of VGG16 to be trainable for fine tuning\n",
    "set_trainable = False\n",
    "for layer in model.layers:\n",
    "  if layer.name == \"conv5_3\":\n",
    "    set_trainable = True\n",
    "  if set_trainable:\n",
    "    layer.trainable = True\n",
    "  else:\n",
    "    layer.trainable = False"
   ]
  },
  {
   "cell_type": "code",
   "execution_count": null,
   "metadata": {
    "colab": {
     "base_uri": "https://localhost:8080/"
    },
    "executionInfo": {
     "elapsed": 2662,
     "status": "ok",
     "timestamp": 1606463890178,
     "user": {
      "displayName": "Adarsh Ghimire",
      "photoUrl": "https://lh3.googleusercontent.com/a-/AOh14GiJ9rHrsqUAXXZP8Syzv-mcB6GhQzMybMiiiSFyKw=s64",
      "userId": "03649801403498526934"
     },
     "user_tz": -240
    },
    "id": "p35ZSqdhS16k",
    "outputId": "f902ec6f-72b5-49b5-fe0f-26d7c1beccf6"
   },
   "outputs": [],
   "source": [
    "# Learning rate reduced compared to original training learning rate\n",
    "reduce_lr = ReduceLROnPlateau(monitor='val_loss', factor=0.5, patience=5, min_lr=0.00001)\n",
    "model.compile(optimizer=optimizers.Adam(learning_rate=0.0001), loss='categorical_crossentropy', metrics=['accuracy'])\n",
    "model.summary()"
   ]
  },
  {
   "cell_type": "code",
   "execution_count": null,
   "metadata": {
    "colab": {
     "base_uri": "https://localhost:8080/"
    },
    "id": "WxAU1fhmS3WM",
    "outputId": "aeca1293-0971-4e8a-9437-861fa2783eee"
   },
   "outputs": [],
   "source": [
    "EPOCHS = 50\n",
    "training_samples = 28709\n",
    "validation_samples = 3589\n",
    "test_samples = 3589\n",
    "history = model.fit_generator(\n",
    "    train_generator,\n",
    "    steps_per_epoch=training_samples//batch_size,\n",
    "    epochs=EPOCHS,\n",
    "    validation_data=validation_generator,\n",
    "    validation_steps=validation_samples//batch_size,\n",
    "    shuffle=True,\n",
    "    class_weight=class_weights,\n",
    "    callbacks=[reduce_lr]\n",
    ")"
   ]
  },
  {
   "cell_type": "code",
   "execution_count": null,
   "metadata": {
    "colab": {
     "base_uri": "https://localhost:8080/",
     "height": 545
    },
    "executionInfo": {
     "elapsed": 3032,
     "status": "ok",
     "timestamp": 1606479978933,
     "user": {
      "displayName": "Adarsh Ghimire",
      "photoUrl": "https://lh3.googleusercontent.com/a-/AOh14GiJ9rHrsqUAXXZP8Syzv-mcB6GhQzMybMiiiSFyKw=s64",
      "userId": "03649801403498526934"
     },
     "user_tz": -240
    },
    "id": "4U70khFeTErq",
    "outputId": "da6ddd22-9282-42a2-b740-70e675418110"
   },
   "outputs": [],
   "source": [
    "import matplotlib.pyplot as plt\n",
    "\n",
    "acc = history.history['accuracy']\n",
    "loss = history.history['loss']\n",
    "\n",
    "val_acc = history.history['val_accuracy']\n",
    "val_loss = history.history['val_loss']\n",
    "\n",
    "epochs = range(1, len(acc)+1)\n",
    "\n",
    "plt.plot(epochs, acc, 'r', label=\"Training accuracy\")\n",
    "plt.plot(epochs, val_acc, 'b', label=\"Validation accuracy\")\n",
    "plt.title('Training and Validation Accuracy after fine tuning 1 with cbam attention')\n",
    "plt.legend()\n",
    "\n",
    "plt.figure()\n",
    "plt.plot(epochs, loss, 'r', label=\"Training Loss\")\n",
    "plt.plot(epochs, val_loss, 'b', label=\"Validation Loss\")\n",
    "plt.title('Training and Validation Loss after fine tuning 1 with cbam attention')\n",
    "plt.legend()\n",
    "plt.show()"
   ]
  },
  {
   "cell_type": "code",
   "execution_count": null,
   "metadata": {
    "colab": {
     "base_uri": "https://localhost:8080/"
    },
    "id": "PC_GYSMo4fk5",
    "outputId": "c9a633a4-a2f3-479f-8e3d-83f93ebd0a4f"
   },
   "outputs": [],
   "source": [
    "# 50 epochs\n",
    "print('\\nEvaluate on validation data')\n",
    "results_validation = model.evaluate_generator(validation_generator, 3589//50)\n",
    "print('val loss, val acc:', results_validation)"
   ]
  },
  {
   "cell_type": "code",
   "execution_count": null,
   "metadata": {
    "colab": {
     "base_uri": "https://localhost:8080/"
    },
    "id": "08D1IoNkVAYP",
    "outputId": "95e0c227-d1d3-4fa7-9176-fc689fb23cd1"
   },
   "outputs": [],
   "source": [
    "epoch_str = '-EPOCHS_' + str(EPOCHS)\n",
    "val_acc = 'test_acc_%.3f' % results_validation[1]\n",
    "print(epoch_str)\n",
    "print(val_acc)"
   ]
  },
  {
   "cell_type": "code",
   "execution_count": null,
   "metadata": {
    "id": "i-TRck66VIL3"
   },
   "outputs": [],
   "source": [
    "# Saving the model\n",
    "model.save(\"drive/My Drive/ENGR635-Deep Learning System Design Project/Models/VGG16_VGGFACE_Attention/\" + 'VGG16_VGG_FACE_attention_finetuned' + epoch_str + val_acc + '.h5')"
   ]
  },
  {
   "cell_type": "markdown",
   "metadata": {
    "id": "lFBaXEsfmZ-X"
   },
   "source": [
    "## Finetuning 2"
   ]
  },
  {
   "cell_type": "markdown",
   "metadata": {
    "id": "YKEMTQT4mUzg"
   },
   "source": [
    "### Finetuning two last layer of VGG16"
   ]
  },
  {
   "cell_type": "markdown",
   "metadata": {},
   "source": [
    "Image generators and data preparation codes are pre-loaded before the below session"
   ]
  },
  {
   "cell_type": "code",
   "execution_count": null,
   "metadata": {},
   "outputs": [],
   "source": [
    "from keras.models import load_model\n",
    "model = load_model(\"drive/My Drive/ENGR635-Deep Learning System Design Project/Models/VGG16_VGGFACE_Attention/VGG16_VGG_FACE_attention_finetuned-EPOCHS_50_val_acc_0.688.h5\")"
   ]
  },
  {
   "cell_type": "code",
   "execution_count": null,
   "metadata": {
    "colab": {
     "base_uri": "https://localhost:8080/"
    },
    "executionInfo": {
     "elapsed": 2034,
     "status": "ok",
     "timestamp": 1606463848579,
     "user": {
      "displayName": "Adarsh Ghimire",
      "photoUrl": "https://lh3.googleusercontent.com/a-/AOh14GiJ9rHrsqUAXXZP8Syzv-mcB6GhQzMybMiiiSFyKw=s64",
      "userId": "03649801403498526934"
     },
     "user_tz": -240
    },
    "id": "pePHz0jOmUzg",
    "outputId": "924f13ea-7b04-4b4c-9250-8f1049ca41df"
   },
   "outputs": [],
   "source": [
    "model.summary()"
   ]
  },
  {
   "cell_type": "code",
   "execution_count": null,
   "metadata": {
    "colab": {
     "base_uri": "https://localhost:8080/"
    },
    "executionInfo": {
     "elapsed": 1409,
     "status": "ok",
     "timestamp": 1606378349116,
     "user": {
      "displayName": "Adarsh Ghimire",
      "photoUrl": "https://lh3.googleusercontent.com/a-/AOh14GiJ9rHrsqUAXXZP8Syzv-mcB6GhQzMybMiiiSFyKw=s64",
      "userId": "03649801403498526934"
     },
     "user_tz": -240
    },
    "id": "ElNqqNyamUzi",
    "outputId": "410b7bd5-74c6-460a-eeca-12ac2f3da828"
   },
   "outputs": [],
   "source": [
    "model.trainable = True\n",
    "model.summary()"
   ]
  },
  {
   "cell_type": "code",
   "execution_count": null,
   "metadata": {
    "id": "9XqIivlmmUzi"
   },
   "outputs": [],
   "source": [
    "# Choosing last convolutional blocks of VGG16 to be trainable for fine tuning\n",
    "set_trainable = False\n",
    "for layer in model.layers:\n",
    "  if layer.name == \"conv5_2\":\n",
    "    set_trainable = True\n",
    "  if set_trainable:\n",
    "    layer.trainable = True\n",
    "  else:\n",
    "    layer.trainable = False"
   ]
  },
  {
   "cell_type": "code",
   "execution_count": null,
   "metadata": {
    "colab": {
     "base_uri": "https://localhost:8080/"
    },
    "executionInfo": {
     "elapsed": 2662,
     "status": "ok",
     "timestamp": 1606463890178,
     "user": {
      "displayName": "Adarsh Ghimire",
      "photoUrl": "https://lh3.googleusercontent.com/a-/AOh14GiJ9rHrsqUAXXZP8Syzv-mcB6GhQzMybMiiiSFyKw=s64",
      "userId": "03649801403498526934"
     },
     "user_tz": -240
    },
    "id": "R9SP-ff-mUzi",
    "outputId": "f902ec6f-72b5-49b5-fe0f-26d7c1beccf6"
   },
   "outputs": [],
   "source": [
    "# Learning rate reduced compared to original training learning rate\n",
    "reduce_lr = ReduceLROnPlateau(monitor='val_loss', factor=0.5, patience=5, min_lr=0.000001)\n",
    "model.compile(optimizer=optimizers.Adam(learning_rate=0.00001), loss='categorical_crossentropy', metrics=['accuracy'])\n",
    "model.summary()"
   ]
  },
  {
   "cell_type": "code",
   "execution_count": null,
   "metadata": {
    "colab": {
     "base_uri": "https://localhost:8080/"
    },
    "id": "_9FmLTOCmUzi",
    "outputId": "aeca1293-0971-4e8a-9437-861fa2783eee"
   },
   "outputs": [],
   "source": [
    "EPOCHS = 50\n",
    "training_samples = 28709\n",
    "validation_samples = 3589\n",
    "test_samples = 3589\n",
    "history = model.fit_generator(\n",
    "    train_generator,\n",
    "    steps_per_epoch=training_samples//batch_size,\n",
    "    epochs=EPOCHS,\n",
    "    validation_data=validation_generator,\n",
    "    validation_steps=validation_samples//batch_size,\n",
    "    shuffle=True,\n",
    "    class_weight=class_weights,\n",
    "    callbacks=[reduce_lr]\n",
    ")"
   ]
  },
  {
   "cell_type": "code",
   "execution_count": null,
   "metadata": {
    "colab": {
     "base_uri": "https://localhost:8080/",
     "height": 545
    },
    "executionInfo": {
     "elapsed": 3032,
     "status": "ok",
     "timestamp": 1606479978933,
     "user": {
      "displayName": "Adarsh Ghimire",
      "photoUrl": "https://lh3.googleusercontent.com/a-/AOh14GiJ9rHrsqUAXXZP8Syzv-mcB6GhQzMybMiiiSFyKw=s64",
      "userId": "03649801403498526934"
     },
     "user_tz": -240
    },
    "id": "A1xYMd2PmUzi",
    "outputId": "da6ddd22-9282-42a2-b740-70e675418110"
   },
   "outputs": [],
   "source": [
    "import matplotlib.pyplot as plt\n",
    "\n",
    "acc = history.history['accuracy']\n",
    "loss = history.history['loss']\n",
    "\n",
    "val_acc = history.history['val_accuracy']\n",
    "val_loss = history.history['val_loss']\n",
    "\n",
    "epochs = range(1, len(acc)+1)\n",
    "\n",
    "plt.plot(epochs, acc, 'r', label=\"Training accuracy\")\n",
    "plt.plot(epochs, val_acc, 'b', label=\"Validation accuracy\")\n",
    "plt.title('Training and Validation Accuracy after fine tuning 2 with cbam attention')\n",
    "plt.legend()\n",
    "\n",
    "plt.figure()\n",
    "plt.plot(epochs, loss, 'r', label=\"Training Loss\")\n",
    "plt.plot(epochs, val_loss, 'b', label=\"Validation Loss\")\n",
    "plt.title('Training and Validation Loss after fine tuning 2 with cbam attention')\n",
    "plt.legend()\n",
    "plt.show()"
   ]
  },
  {
   "cell_type": "code",
   "execution_count": null,
   "metadata": {
    "colab": {
     "base_uri": "https://localhost:8080/"
    },
    "id": "ew7a9ZcVmUzj",
    "outputId": "c9a633a4-a2f3-479f-8e3d-83f93ebd0a4f"
   },
   "outputs": [],
   "source": [
    "# 50 epochs\n",
    "print('\\nEvaluate on validation data')\n",
    "results_validation = model.evaluate_generator(validation_generator, 3589//50)\n",
    "print('val loss, val acc:', results_validation)"
   ]
  },
  {
   "cell_type": "code",
   "execution_count": null,
   "metadata": {
    "colab": {
     "base_uri": "https://localhost:8080/"
    },
    "id": "KyAqgpdEmUzj",
    "outputId": "95e0c227-d1d3-4fa7-9176-fc689fb23cd1"
   },
   "outputs": [],
   "source": [
    "epoch_str = '-EPOCHS_' + str(EPOCHS)\n",
    "val_acc = 'val_acc_%.3f' % results_validation[1]\n",
    "print(epoch_str)\n",
    "print(val_acc)"
   ]
  },
  {
   "cell_type": "code",
   "execution_count": null,
   "metadata": {
    "id": "y1MjecyPmUzj"
   },
   "outputs": [],
   "source": [
    "# Saving the model\n",
    "model.save(\"drive/My Drive/ENGR635-Deep Learning System Design Project/Models/VGG16_VGGFACE_Attention/\" + 'VGG16_VGG_FACE_attention_finetuned' + epoch_str + val_acc + '.h5')"
   ]
  },
  {
   "cell_type": "markdown",
   "metadata": {
    "id": "YhpSb-DRmoXz"
   },
   "source": [
    "## Finetuning 3"
   ]
  },
  {
   "cell_type": "markdown",
   "metadata": {
    "id": "yyQOkJ0DmjGk"
   },
   "source": [
    "### Choosing last 3 layers of VGG16"
   ]
  },
  {
   "cell_type": "markdown",
   "metadata": {},
   "source": [
    "Image generators and data preparation codes are pre-loaded before the below session"
   ]
  },
  {
   "cell_type": "code",
   "execution_count": null,
   "metadata": {},
   "outputs": [],
   "source": [
    "from keras.models import load_model\n",
    "model = load_model(\"drive/My Drive/ENGR635-Deep Learning System Design Project/Models/VGG16_VGGFACE_Attention/VGG16_VGG_FACE_attention_finetuned-EPOCHS_50_val_acc_0.701.h5\")"
   ]
  },
  {
   "cell_type": "code",
   "execution_count": null,
   "metadata": {
    "colab": {
     "base_uri": "https://localhost:8080/"
    },
    "executionInfo": {
     "elapsed": 2034,
     "status": "ok",
     "timestamp": 1606463848579,
     "user": {
      "displayName": "Adarsh Ghimire",
      "photoUrl": "https://lh3.googleusercontent.com/a-/AOh14GiJ9rHrsqUAXXZP8Syzv-mcB6GhQzMybMiiiSFyKw=s64",
      "userId": "03649801403498526934"
     },
     "user_tz": -240
    },
    "id": "lsHkawpimjGk",
    "outputId": "924f13ea-7b04-4b4c-9250-8f1049ca41df"
   },
   "outputs": [],
   "source": [
    "model.summary()"
   ]
  },
  {
   "cell_type": "code",
   "execution_count": null,
   "metadata": {
    "colab": {
     "base_uri": "https://localhost:8080/"
    },
    "executionInfo": {
     "elapsed": 1409,
     "status": "ok",
     "timestamp": 1606378349116,
     "user": {
      "displayName": "Adarsh Ghimire",
      "photoUrl": "https://lh3.googleusercontent.com/a-/AOh14GiJ9rHrsqUAXXZP8Syzv-mcB6GhQzMybMiiiSFyKw=s64",
      "userId": "03649801403498526934"
     },
     "user_tz": -240
    },
    "id": "aubMDBT8mjGk",
    "outputId": "410b7bd5-74c6-460a-eeca-12ac2f3da828"
   },
   "outputs": [],
   "source": [
    "model.trainable = True\n",
    "model.summary()"
   ]
  },
  {
   "cell_type": "code",
   "execution_count": null,
   "metadata": {
    "id": "S6lIU8QYmjGl"
   },
   "outputs": [],
   "source": [
    "# Choosing last convolutional blocks of VGG16 to be trainable for fine tuning\n",
    "set_trainable = False\n",
    "for layer in model.layers:\n",
    "  if layer.name == \"conv5_1\":\n",
    "    set_trainable = True\n",
    "  if set_trainable:\n",
    "    layer.trainable = True\n",
    "  else:\n",
    "    layer.trainable = False"
   ]
  },
  {
   "cell_type": "code",
   "execution_count": null,
   "metadata": {
    "colab": {
     "base_uri": "https://localhost:8080/"
    },
    "executionInfo": {
     "elapsed": 2662,
     "status": "ok",
     "timestamp": 1606463890178,
     "user": {
      "displayName": "Adarsh Ghimire",
      "photoUrl": "https://lh3.googleusercontent.com/a-/AOh14GiJ9rHrsqUAXXZP8Syzv-mcB6GhQzMybMiiiSFyKw=s64",
      "userId": "03649801403498526934"
     },
     "user_tz": -240
    },
    "id": "fHbnTuiQmjGl",
    "outputId": "f902ec6f-72b5-49b5-fe0f-26d7c1beccf6"
   },
   "outputs": [],
   "source": [
    "# Learning rate reduced compared to original training learning rate\n",
    "reduce_lr = ReduceLROnPlateau(monitor='val_loss', factor=0.5, patience=5, min_lr=0.000001)\n",
    "model.compile(optimizer=optimizers.Adam(learning_rate=0.00001), loss='categorical_crossentropy', metrics=['accuracy'])\n",
    "model.summary()"
   ]
  },
  {
   "cell_type": "code",
   "execution_count": null,
   "metadata": {
    "colab": {
     "base_uri": "https://localhost:8080/"
    },
    "id": "L6bU5EL1mjGl",
    "outputId": "aeca1293-0971-4e8a-9437-861fa2783eee"
   },
   "outputs": [],
   "source": [
    "EPOCHS = 50\n",
    "training_samples = 28709\n",
    "validation_samples = 3589\n",
    "test_samples = 3589\n",
    "history = model.fit_generator(\n",
    "    train_generator,\n",
    "    steps_per_epoch=training_samples//batch_size,\n",
    "    epochs=EPOCHS,\n",
    "    validation_data=validation_generator,\n",
    "    validation_steps=validation_samples//batch_size,\n",
    "    shuffle=True,\n",
    "    class_weight=class_weights,\n",
    "    callbacks=[reduce_lr]\n",
    ")"
   ]
  },
  {
   "cell_type": "code",
   "execution_count": null,
   "metadata": {
    "colab": {
     "base_uri": "https://localhost:8080/",
     "height": 545
    },
    "executionInfo": {
     "elapsed": 3032,
     "status": "ok",
     "timestamp": 1606479978933,
     "user": {
      "displayName": "Adarsh Ghimire",
      "photoUrl": "https://lh3.googleusercontent.com/a-/AOh14GiJ9rHrsqUAXXZP8Syzv-mcB6GhQzMybMiiiSFyKw=s64",
      "userId": "03649801403498526934"
     },
     "user_tz": -240
    },
    "id": "1MFuitRLmjGl",
    "outputId": "da6ddd22-9282-42a2-b740-70e675418110"
   },
   "outputs": [],
   "source": [
    "import matplotlib.pyplot as plt\n",
    "\n",
    "acc = history.history['accuracy']\n",
    "loss = history.history['loss']\n",
    "\n",
    "val_acc = history.history['val_accuracy']\n",
    "val_loss = history.history['val_loss']\n",
    "\n",
    "epochs = range(1, len(acc)+1)\n",
    "\n",
    "plt.plot(epochs, acc, 'r', label=\"Training accuracy\")\n",
    "plt.plot(epochs, val_acc, 'b', label=\"Validation accuracy\")\n",
    "plt.title('Training and Validation Accuracy after fine tuning 3 with cbam attention')\n",
    "plt.legend()\n",
    "\n",
    "plt.figure()\n",
    "plt.plot(epochs, loss, 'r', label=\"Training Loss\")\n",
    "plt.plot(epochs, val_loss, 'b', label=\"Validation Loss\")\n",
    "plt.title('Training and Validation Loss after fine tuning 3 with cbam attention')\n",
    "plt.legend()\n",
    "plt.show()"
   ]
  },
  {
   "cell_type": "code",
   "execution_count": null,
   "metadata": {
    "colab": {
     "base_uri": "https://localhost:8080/"
    },
    "id": "RPUEzY4ImjGl",
    "outputId": "c9a633a4-a2f3-479f-8e3d-83f93ebd0a4f"
   },
   "outputs": [],
   "source": [
    "# 50 epochs\n",
    "print('\\nEvaluate on validation data')\n",
    "results_validation = model.evaluate_generator(validation_generator, 3589//50)\n",
    "print('val loss, val acc:', results_validation)"
   ]
  },
  {
   "cell_type": "code",
   "execution_count": null,
   "metadata": {
    "colab": {
     "base_uri": "https://localhost:8080/"
    },
    "id": "wdgznwzFmjGl",
    "outputId": "95e0c227-d1d3-4fa7-9176-fc689fb23cd1"
   },
   "outputs": [],
   "source": [
    "epoch_str = '-EPOCHS_' + str(EPOCHS)\n",
    "val_acc = 'val_acc_%.3f' % results_validation[1]\n",
    "print(epoch_str)\n",
    "print(val_acc)"
   ]
  },
  {
   "cell_type": "code",
   "execution_count": null,
   "metadata": {
    "id": "RHybB1cwmjGl"
   },
   "outputs": [],
   "source": [
    "# Saving the model\n",
    "model.save(\"drive/My Drive/ENGR635-Deep Learning System Design Project/Models/VGG16_VGGFACE_Attention/\" + 'VGG16_VGG_FACE_attention_finetuned' + epoch_str + val_acc + '.h5')"
   ]
  },
  {
   "cell_type": "code",
   "execution_count": null,
   "metadata": {
    "colab": {
     "base_uri": "https://localhost:8080/"
    },
    "executionInfo": {
     "elapsed": 9117,
     "status": "ok",
     "timestamp": 1606242023188,
     "user": {
      "displayName": "Adarsh Ghimire",
      "photoUrl": "https://lh3.googleusercontent.com/a-/AOh14GiJ9rHrsqUAXXZP8Syzv-mcB6GhQzMybMiiiSFyKw=s64",
      "userId": "03649801403498526934"
     },
     "user_tz": -240
    },
    "id": "UVUo1XadFyN9",
    "outputId": "0540d756-7d74-4225-aa02-ae450ef3a9f8"
   },
   "outputs": [],
   "source": [
    "print('\\nEvaluate on Validation data')\n",
    "results_validation = model.evaluate_generator(validation_generator, 3589//50 )\n",
    "print('Validation loss, Validation Accuracy:', results_validation)"
   ]
  },
  {
   "cell_type": "code",
   "execution_count": null,
   "metadata": {
    "colab": {
     "base_uri": "https://localhost:8080/"
    },
    "executionInfo": {
     "elapsed": 9757,
     "status": "ok",
     "timestamp": 1606246387223,
     "user": {
      "displayName": "Adarsh Ghimire",
      "photoUrl": "https://lh3.googleusercontent.com/a-/AOh14GiJ9rHrsqUAXXZP8Syzv-mcB6GhQzMybMiiiSFyKw=s64",
      "userId": "03649801403498526934"
     },
     "user_tz": -240
    },
    "id": "b0p1xuM_FyOA",
    "outputId": "db09f318-8266-4b20-a1fd-44a84f81d785"
   },
   "outputs": [],
   "source": [
    "print('\\nEvaluate on test data')\n",
    "results_test = model.evaluate_generator(test_generator, 3589//50)\n",
    "print('test loss, test acc:', results_test)"
   ]
  }
 ],
 "metadata": {
  "accelerator": "GPU",
  "colab": {
   "collapsed_sections": [],
   "name": "1_Transfer_learning_and_cbam_attention_with_VGG16(VGGFACE)_on_fer2013.ipynb",
   "provenance": []
  },
  "kernelspec": {
   "display_name": "Python 3",
   "language": "python",
   "name": "python3"
  },
  "language_info": {
   "codemirror_mode": {
    "name": "ipython",
    "version": 3
   },
   "file_extension": ".py",
   "mimetype": "text/x-python",
   "name": "python",
   "nbconvert_exporter": "python",
   "pygments_lexer": "ipython3",
   "version": "3.8.6"
  }
 },
 "nbformat": 4,
 "nbformat_minor": 1
}
