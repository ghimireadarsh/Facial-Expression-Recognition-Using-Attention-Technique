{
 "cells": [
  {
   "cell_type": "code",
   "execution_count": 1,
   "metadata": {},
   "outputs": [
    {
     "data": {
      "text/plain": [
       "'/Users/adarsh/Desktop/Facial-Expression-Recognition-Using-Attention-Technique/.venv/bin/python'"
      ]
     },
     "execution_count": 1,
     "metadata": {},
     "output_type": "execute_result"
    }
   ],
   "source": [
    "import sys\n",
    "sys.executable"
   ]
  },
  {
   "cell_type": "code",
   "execution_count": 1,
   "metadata": {},
   "outputs": [],
   "source": [
    "import os\n",
    "import numpy as np\n",
    "from keras.preprocessing.image import ImageDataGenerator\n",
    "from keras.applications import VGG16\n",
    "from keras.models import Sequential\n",
    "from keras.layers import Conv2D, Dense, Dropout, Flatten\n",
    "from keras import optimizers"
   ]
  },
  {
   "cell_type": "code",
   "execution_count": 3,
   "metadata": {},
   "outputs": [],
   "source": [
    "conv_base = VGG16(weights='imagenet',\n",
    "                  include_top = False,\n",
    "                  input_shape = (48,48,3))"
   ]
  },
  {
   "cell_type": "code",
   "execution_count": 4,
   "metadata": {
    "collapsed": true
   },
   "outputs": [
    {
     "name": "stdout",
     "output_type": "stream",
     "text": [
      "Model: \"vgg16\"\n",
      "_________________________________________________________________\n",
      "Layer (type)                 Output Shape              Param #   \n",
      "=================================================================\n",
      "input_1 (InputLayer)         [(None, 48, 48, 3)]       0         \n",
      "_________________________________________________________________\n",
      "block1_conv1 (Conv2D)        (None, 48, 48, 64)        1792      \n",
      "_________________________________________________________________\n",
      "block1_conv2 (Conv2D)        (None, 48, 48, 64)        36928     \n",
      "_________________________________________________________________\n",
      "block1_pool (MaxPooling2D)   (None, 24, 24, 64)        0         \n",
      "_________________________________________________________________\n",
      "block2_conv1 (Conv2D)        (None, 24, 24, 128)       73856     \n",
      "_________________________________________________________________\n",
      "block2_conv2 (Conv2D)        (None, 24, 24, 128)       147584    \n",
      "_________________________________________________________________\n",
      "block2_pool (MaxPooling2D)   (None, 12, 12, 128)       0         \n",
      "_________________________________________________________________\n",
      "block3_conv1 (Conv2D)        (None, 12, 12, 256)       295168    \n",
      "_________________________________________________________________\n",
      "block3_conv2 (Conv2D)        (None, 12, 12, 256)       590080    \n",
      "_________________________________________________________________\n",
      "block3_conv3 (Conv2D)        (None, 12, 12, 256)       590080    \n",
      "_________________________________________________________________\n",
      "block3_pool (MaxPooling2D)   (None, 6, 6, 256)         0         \n",
      "_________________________________________________________________\n",
      "block4_conv1 (Conv2D)        (None, 6, 6, 512)         1180160   \n",
      "_________________________________________________________________\n",
      "block4_conv2 (Conv2D)        (None, 6, 6, 512)         2359808   \n",
      "_________________________________________________________________\n",
      "block4_conv3 (Conv2D)        (None, 6, 6, 512)         2359808   \n",
      "_________________________________________________________________\n",
      "block4_pool (MaxPooling2D)   (None, 3, 3, 512)         0         \n",
      "_________________________________________________________________\n",
      "block5_conv1 (Conv2D)        (None, 3, 3, 512)         2359808   \n",
      "_________________________________________________________________\n",
      "block5_conv2 (Conv2D)        (None, 3, 3, 512)         2359808   \n",
      "_________________________________________________________________\n",
      "block5_conv3 (Conv2D)        (None, 3, 3, 512)         2359808   \n",
      "_________________________________________________________________\n",
      "block5_pool (MaxPooling2D)   (None, 1, 1, 512)         0         \n",
      "=================================================================\n",
      "Total params: 14,714,688\n",
      "Trainable params: 14,714,688\n",
      "Non-trainable params: 0\n",
      "_________________________________________________________________\n"
     ]
    }
   ],
   "source": [
    "conv_base.summary()"
   ]
  },
  {
   "cell_type": "markdown",
   "metadata": {},
   "source": [
    "### Analysis with using small number of data only"
   ]
  },
  {
   "cell_type": "code",
   "execution_count": 2,
   "metadata": {},
   "outputs": [],
   "source": [
    "train_dir = \"../Data/fer2013_small/train/\"\n",
    "validation_dir = \"../Data/fer2013_small/validation/\""
   ]
  },
  {
   "cell_type": "code",
   "execution_count": 5,
   "metadata": {},
   "outputs": [
    {
     "name": "stdout",
     "output_type": "stream",
     "text": [
      "Found 3436 images belonging to 7 classes.\n",
      "Found 1256 images belonging to 7 classes.\n"
     ]
    }
   ],
   "source": [
    "# Image Data Generator setup\n",
    "train_datagen = ImageDataGenerator(rescale=1./255)\n",
    "validation_datagen = ImageDataGenerator(rescale=1./255)\n",
    "train_generator = train_datagen.flow_from_directory(\n",
    "    train_dir,\n",
    "    target_size = (48, 48),\n",
    "    batch_size = 50,\n",
    "    class_mode='categorical'\n",
    ")\n",
    "validation_generator = validation_datagen.flow_from_directory(\n",
    "    validation_dir,\n",
    "    target_size = (48, 48),\n",
    "    batch_size = 20,\n",
    "    class_mode = 'categorical'\n",
    ")"
   ]
  },
  {
   "cell_type": "code",
   "execution_count": 6,
   "metadata": {},
   "outputs": [],
   "source": [
    "model = Sequential()\n",
    "model.add(conv_base)\n",
    "model.add(Flatten())\n",
    "model.add(Dense(512, activation='relu'))\n",
    "model.add(Dense(7, activation='softmax'))"
   ]
  },
  {
   "cell_type": "code",
   "execution_count": 9,
   "metadata": {},
   "outputs": [
    {
     "name": "stdout",
     "output_type": "stream",
     "text": [
      "Model: \"sequential\"\n",
      "_________________________________________________________________\n",
      "Layer (type)                 Output Shape              Param #   \n",
      "=================================================================\n",
      "vgg16 (Functional)           (None, 1, 1, 512)         14714688  \n",
      "_________________________________________________________________\n",
      "flatten (Flatten)            (None, 512)               0         \n",
      "_________________________________________________________________\n",
      "dense (Dense)                (None, 512)               262656    \n",
      "_________________________________________________________________\n",
      "dense_1 (Dense)              (None, 7)                 3591      \n",
      "=================================================================\n",
      "Total params: 14,980,935\n",
      "Trainable params: 14,980,935\n",
      "Non-trainable params: 0\n",
      "_________________________________________________________________\n"
     ]
    }
   ],
   "source": [
    "model.summary()"
   ]
  },
  {
   "cell_type": "code",
   "execution_count": 10,
   "metadata": {},
   "outputs": [
    {
     "name": "stdout",
     "output_type": "stream",
     "text": [
      "Number of trainable weights before freezing the conv base: 30\n"
     ]
    }
   ],
   "source": [
    "print(\"Number of trainable weights before freezing the conv base:\", len(model.trainable_weights))"
   ]
  },
  {
   "cell_type": "code",
   "execution_count": 11,
   "metadata": {},
   "outputs": [],
   "source": [
    "conv_base.trainable = False"
   ]
  },
  {
   "cell_type": "code",
   "execution_count": 12,
   "metadata": {},
   "outputs": [
    {
     "name": "stdout",
     "output_type": "stream",
     "text": [
      "Number of trainable weights after freezing the conv base: 4\n"
     ]
    }
   ],
   "source": [
    "print(\"Number of trainable weights after freezing the conv base:\", len(model.trainable_weights))"
   ]
  },
  {
   "cell_type": "code",
   "execution_count": 13,
   "metadata": {},
   "outputs": [],
   "source": [
    "model.compile(loss='categorical_crossentropy',\n",
    "              optimizer = optimizers.RMSprop(learning_rate=1e-4),\n",
    "              metrics = ['accuracy']\n",
    "             )"
   ]
  },
  {
   "cell_type": "code",
   "execution_count": null,
   "metadata": {},
   "outputs": [
    {
     "name": "stdout",
     "output_type": "stream",
     "text": [
      "Epoch 1/10\n",
      "44/68 [==================>...........] - ETA: 43s - loss: 1.8273 - accuracy: 0.2758"
     ]
    }
   ],
   "source": [
    "history = model.fit_generator(\n",
    "    train_generator,\n",
    "    steps_per_epoch=68,\n",
    "    epochs=10,\n",
    "    validation_data=validation_generator,\n",
    "    validation_steps=62\n",
    ")"
   ]
  },
  {
   "cell_type": "markdown",
   "metadata": {},
   "source": [
    "### Using Pretrained network to extract features on whole data"
   ]
  },
  {
   "cell_type": "code",
   "execution_count": 33,
   "metadata": {},
   "outputs": [
    {
     "name": "stdout",
     "output_type": "stream",
     "text": [
      "Model: \"vgg16\"\n",
      "_________________________________________________________________\n",
      "Layer (type)                 Output Shape              Param #   \n",
      "=================================================================\n",
      "input_1 (InputLayer)         [(None, 48, 48, 3)]       0         \n",
      "_________________________________________________________________\n",
      "block1_conv1 (Conv2D)        (None, 48, 48, 64)        1792      \n",
      "_________________________________________________________________\n",
      "block1_conv2 (Conv2D)        (None, 48, 48, 64)        36928     \n",
      "_________________________________________________________________\n",
      "block1_pool (MaxPooling2D)   (None, 24, 24, 64)        0         \n",
      "_________________________________________________________________\n",
      "block2_conv1 (Conv2D)        (None, 24, 24, 128)       73856     \n",
      "_________________________________________________________________\n",
      "block2_conv2 (Conv2D)        (None, 24, 24, 128)       147584    \n",
      "_________________________________________________________________\n",
      "block2_pool (MaxPooling2D)   (None, 12, 12, 128)       0         \n",
      "_________________________________________________________________\n",
      "block3_conv1 (Conv2D)        (None, 12, 12, 256)       295168    \n",
      "_________________________________________________________________\n",
      "block3_conv2 (Conv2D)        (None, 12, 12, 256)       590080    \n",
      "_________________________________________________________________\n",
      "block3_conv3 (Conv2D)        (None, 12, 12, 256)       590080    \n",
      "_________________________________________________________________\n",
      "block3_pool (MaxPooling2D)   (None, 6, 6, 256)         0         \n",
      "_________________________________________________________________\n",
      "block4_conv1 (Conv2D)        (None, 6, 6, 512)         1180160   \n",
      "_________________________________________________________________\n",
      "block4_conv2 (Conv2D)        (None, 6, 6, 512)         2359808   \n",
      "_________________________________________________________________\n",
      "block4_conv3 (Conv2D)        (None, 6, 6, 512)         2359808   \n",
      "_________________________________________________________________\n",
      "block4_pool (MaxPooling2D)   (None, 3, 3, 512)         0         \n",
      "_________________________________________________________________\n",
      "block5_conv1 (Conv2D)        (None, 3, 3, 512)         2359808   \n",
      "_________________________________________________________________\n",
      "block5_conv2 (Conv2D)        (None, 3, 3, 512)         2359808   \n",
      "_________________________________________________________________\n",
      "block5_conv3 (Conv2D)        (None, 3, 3, 512)         2359808   \n",
      "_________________________________________________________________\n",
      "block5_pool (MaxPooling2D)   (None, 1, 1, 512)         0         \n",
      "=================================================================\n",
      "Total params: 14,714,688\n",
      "Trainable params: 0\n",
      "Non-trainable params: 14,714,688\n",
      "_________________________________________________________________\n"
     ]
    }
   ],
   "source": [
    "conv_base.summary()"
   ]
  },
  {
   "cell_type": "code",
   "execution_count": 30,
   "metadata": {},
   "outputs": [],
   "source": [
    "import os\n",
    "import numpy as np\n",
    "from keras.preprocessing.image import ImageDataGenerator"
   ]
  },
  {
   "cell_type": "code",
   "execution_count": 31,
   "metadata": {},
   "outputs": [],
   "source": [
    "base_dir = \"../Data/fer2013/\"\n",
    "train_dir = \"../Data/fer2013/Training/\"\n",
    "validation_dir = \"../Data/fer2013/PublicTest/\""
   ]
  },
  {
   "cell_type": "code",
   "execution_count": 47,
   "metadata": {},
   "outputs": [],
   "source": [
    "datagen = ImageDataGenerator(rescale=1./255)\n",
    "batch_size = 10"
   ]
  },
  {
   "cell_type": "code",
   "execution_count": 50,
   "metadata": {},
   "outputs": [],
   "source": [
    "def extract_features(directory, sample_count):\n",
    "    features = np.zeros(shape=(sample_count, 1, 1, 512))\n",
    "    labels = np.zeros(shape=(sample_count, 7))\n",
    "    generator = datagen.flow_from_directory(\n",
    "        directory,\n",
    "        target_size=(48,48),\n",
    "        batch_size=batch_size,\n",
    "        class_mode='categorical'\n",
    "    )\n",
    "    i = 0\n",
    "    for inputs_batch, labels_batch in generator:\n",
    "        features_batch = conv_base.predict(inputs_batch)\n",
    "        features[i * batch_size : (i+1)*batch_size] = features_batch\n",
    "        labels[i*batch_size : (i+1)*batch_size] = labels_batch\n",
    "        i+=1\n",
    "        if i*batch_size >= sample_count:\n",
    "            break\n",
    "    return features, labels"
   ]
  },
  {
   "cell_type": "code",
   "execution_count": 37,
   "metadata": {},
   "outputs": [
    {
     "name": "stdout",
     "output_type": "stream",
     "text": [
      "Found 28799 images belonging to 7 classes.\n"
     ]
    }
   ],
   "source": [
    "train_features, train_labels = extract_features(train_dir, 28799)"
   ]
  },
  {
   "cell_type": "code",
   "execution_count": 38,
   "metadata": {},
   "outputs": [
    {
     "data": {
      "text/plain": [
       "(28799, 1, 1, 512)"
      ]
     },
     "execution_count": 38,
     "metadata": {},
     "output_type": "execute_result"
    }
   ],
   "source": [
    "train_features.shape"
   ]
  },
  {
   "cell_type": "code",
   "execution_count": 39,
   "metadata": {},
   "outputs": [
    {
     "data": {
      "text/plain": [
       "(28799, 7)"
      ]
     },
     "execution_count": 39,
     "metadata": {},
     "output_type": "execute_result"
    }
   ],
   "source": [
    "train_labels.shape"
   ]
  },
  {
   "cell_type": "code",
   "execution_count": 51,
   "metadata": {},
   "outputs": [
    {
     "name": "stdout",
     "output_type": "stream",
     "text": [
      "Found 3589 images belonging to 7 classes.\n"
     ]
    }
   ],
   "source": [
    "validation_features, validation_labels = extract_features(validation_dir, 3589)"
   ]
  },
  {
   "cell_type": "code",
   "execution_count": 52,
   "metadata": {},
   "outputs": [],
   "source": [
    "from keras.models import Sequential\n",
    "from keras.layers import Dense\n",
    "from keras import optimizers"
   ]
  },
  {
   "cell_type": "code",
   "execution_count": 53,
   "metadata": {},
   "outputs": [],
   "source": [
    "train_features = np.reshape(train_features, (28799, 1*1*512))\n",
    "validation_features = np.reshape(validation_features, (3589, 1*1*512))"
   ]
  },
  {
   "cell_type": "code",
   "execution_count": 66,
   "metadata": {},
   "outputs": [],
   "source": [
    "model = Sequential()\n",
    "model.add(Dense(256, activation='relu', input_dim=512))\n",
    "model.add(Dropout(0.5))\n",
    "model.add(Dense(256, activation='relu'))\n",
    "model.add(Dropout(0.5))\n",
    "model.add(Dense(7, activation='softmax'))\n",
    "model.compile(loss='categorical_crossentropy',\n",
    "              optimizer = optimizers.RMSprop(learning_rate=1e-04),\n",
    "              metrics=['accuracy']\n",
    "             )"
   ]
  },
  {
   "cell_type": "code",
   "execution_count": 67,
   "metadata": {},
   "outputs": [
    {
     "name": "stdout",
     "output_type": "stream",
     "text": [
      "Model: \"sequential_4\"\n",
      "_________________________________________________________________\n",
      "Layer (type)                 Output Shape              Param #   \n",
      "=================================================================\n",
      "dense_8 (Dense)              (None, 256)               131328    \n",
      "_________________________________________________________________\n",
      "dropout_3 (Dropout)          (None, 256)               0         \n",
      "_________________________________________________________________\n",
      "dense_9 (Dense)              (None, 256)               65792     \n",
      "_________________________________________________________________\n",
      "dropout_4 (Dropout)          (None, 256)               0         \n",
      "_________________________________________________________________\n",
      "dense_10 (Dense)             (None, 7)                 1799      \n",
      "=================================================================\n",
      "Total params: 198,919\n",
      "Trainable params: 198,919\n",
      "Non-trainable params: 0\n",
      "_________________________________________________________________\n"
     ]
    }
   ],
   "source": [
    "model.summary()"
   ]
  },
  {
   "cell_type": "code",
   "execution_count": 69,
   "metadata": {},
   "outputs": [
    {
     "name": "stdout",
     "output_type": "stream",
     "text": [
      "Epoch 1/40\n",
      "1440/1440 [==============================] - 6s 4ms/step - loss: 1.7461 - accuracy: 0.2879 - val_loss: 1.6768 - val_accuracy: 0.3293\n",
      "Epoch 2/40\n",
      "1440/1440 [==============================] - 6s 4ms/step - loss: 1.6862 - accuracy: 0.3227 - val_loss: 1.6566 - val_accuracy: 0.3441\n",
      "Epoch 3/40\n",
      "1440/1440 [==============================] - 6s 4ms/step - loss: 1.6653 - accuracy: 0.3312 - val_loss: 1.6395 - val_accuracy: 0.3461\n",
      "Epoch 4/40\n",
      "1440/1440 [==============================] - 7s 5ms/step - loss: 1.6562 - accuracy: 0.3392 - val_loss: 1.6330 - val_accuracy: 0.3516\n",
      "Epoch 5/40\n",
      "1440/1440 [==============================] - 6s 4ms/step - loss: 1.6513 - accuracy: 0.3430 - val_loss: 1.6247 - val_accuracy: 0.3592\n",
      "Epoch 6/40\n",
      "1440/1440 [==============================] - 6s 4ms/step - loss: 1.6449 - accuracy: 0.3454 - val_loss: 1.6299 - val_accuracy: 0.3617\n",
      "Epoch 7/40\n",
      "1440/1440 [==============================] - 6s 4ms/step - loss: 1.6407 - accuracy: 0.3471 - val_loss: 1.6183 - val_accuracy: 0.3558\n",
      "Epoch 8/40\n",
      "1440/1440 [==============================] - 6s 4ms/step - loss: 1.6337 - accuracy: 0.3527 - val_loss: 1.6167 - val_accuracy: 0.3566\n",
      "Epoch 9/40\n",
      "1440/1440 [==============================] - 6s 4ms/step - loss: 1.6320 - accuracy: 0.3494 - val_loss: 1.6127 - val_accuracy: 0.3656\n",
      "Epoch 10/40\n",
      "1440/1440 [==============================] - 6s 4ms/step - loss: 1.6290 - accuracy: 0.3545 - val_loss: 1.6098 - val_accuracy: 0.3764\n",
      "Epoch 11/40\n",
      "1440/1440 [==============================] - 7s 5ms/step - loss: 1.6262 - accuracy: 0.3573 - val_loss: 1.6000 - val_accuracy: 0.3814\n",
      "Epoch 12/40\n",
      "1440/1440 [==============================] - 6s 4ms/step - loss: 1.6240 - accuracy: 0.3587 - val_loss: 1.6016 - val_accuracy: 0.3714\n",
      "Epoch 13/40\n",
      "1440/1440 [==============================] - 6s 4ms/step - loss: 1.6222 - accuracy: 0.3619 - val_loss: 1.6003 - val_accuracy: 0.3728\n",
      "Epoch 14/40\n",
      "1440/1440 [==============================] - 6s 4ms/step - loss: 1.6206 - accuracy: 0.3647 - val_loss: 1.5979 - val_accuracy: 0.3756\n",
      "Epoch 15/40\n",
      "1440/1440 [==============================] - 6s 4ms/step - loss: 1.6182 - accuracy: 0.3624 - val_loss: 1.5929 - val_accuracy: 0.3801\n",
      "Epoch 16/40\n",
      "1440/1440 [==============================] - 6s 4ms/step - loss: 1.6175 - accuracy: 0.3653 - val_loss: 1.5973 - val_accuracy: 0.3801\n",
      "Epoch 17/40\n",
      "1440/1440 [==============================] - 6s 4ms/step - loss: 1.6149 - accuracy: 0.3649 - val_loss: 1.5965 - val_accuracy: 0.3728\n",
      "Epoch 18/40\n",
      "1440/1440 [==============================] - 6s 4ms/step - loss: 1.6137 - accuracy: 0.3679 - val_loss: 1.5883 - val_accuracy: 0.3859\n",
      "Epoch 19/40\n",
      "1440/1440 [==============================] - 6s 4ms/step - loss: 1.6114 - accuracy: 0.3666 - val_loss: 1.5939 - val_accuracy: 0.3867\n",
      "Epoch 20/40\n",
      "1440/1440 [==============================] - 6s 4ms/step - loss: 1.6128 - accuracy: 0.3670 - val_loss: 1.5858 - val_accuracy: 0.3848\n",
      "Epoch 21/40\n",
      "1440/1440 [==============================] - 6s 4ms/step - loss: 1.6105 - accuracy: 0.3694 - val_loss: 1.5844 - val_accuracy: 0.3923\n",
      "Epoch 22/40\n",
      "1440/1440 [==============================] - 6s 4ms/step - loss: 1.6141 - accuracy: 0.3674 - val_loss: 1.5858 - val_accuracy: 0.3929\n",
      "Epoch 23/40\n",
      "1440/1440 [==============================] - 6s 4ms/step - loss: 1.6083 - accuracy: 0.3715 - val_loss: 1.5850 - val_accuracy: 0.3851\n",
      "Epoch 24/40\n",
      "1440/1440 [==============================] - 6s 4ms/step - loss: 1.6107 - accuracy: 0.3690 - val_loss: 1.5827 - val_accuracy: 0.3931\n",
      "Epoch 25/40\n",
      "1440/1440 [==============================] - 6s 4ms/step - loss: 1.6115 - accuracy: 0.3691 - val_loss: 1.5765 - val_accuracy: 0.3929\n",
      "Epoch 26/40\n",
      "1440/1440 [==============================] - 6s 4ms/step - loss: 1.6089 - accuracy: 0.3717 - val_loss: 1.5838 - val_accuracy: 0.3909\n",
      "Epoch 27/40\n",
      "1440/1440 [==============================] - 7s 5ms/step - loss: 1.6107 - accuracy: 0.3702 - val_loss: 1.5911 - val_accuracy: 0.3784\n",
      "Epoch 28/40\n",
      "1440/1440 [==============================] - 6s 4ms/step - loss: 1.6126 - accuracy: 0.3674 - val_loss: 1.5751 - val_accuracy: 0.3901\n",
      "Epoch 29/40\n",
      "1440/1440 [==============================] - 6s 4ms/step - loss: 1.6086 - accuracy: 0.3691 - val_loss: 1.5825 - val_accuracy: 0.3904\n",
      "Epoch 30/40\n",
      "1440/1440 [==============================] - 6s 4ms/step - loss: 1.6100 - accuracy: 0.3696 - val_loss: 1.5789 - val_accuracy: 0.3826\n",
      "Epoch 31/40\n",
      "1440/1440 [==============================] - 6s 4ms/step - loss: 1.6093 - accuracy: 0.3710 - val_loss: 1.5733 - val_accuracy: 0.3918\n",
      "Epoch 32/40\n",
      "1440/1440 [==============================] - 6s 4ms/step - loss: 1.6080 - accuracy: 0.3698 - val_loss: 1.5750 - val_accuracy: 0.3867\n",
      "Epoch 33/40\n",
      "1440/1440 [==============================] - 6s 4ms/step - loss: 1.6077 - accuracy: 0.3710 - val_loss: 1.5713 - val_accuracy: 0.3912\n",
      "Epoch 34/40\n",
      "1440/1440 [==============================] - 6s 4ms/step - loss: 1.6068 - accuracy: 0.3702 - val_loss: 1.5695 - val_accuracy: 0.3920\n",
      "Epoch 35/40\n",
      "1440/1440 [==============================] - 6s 4ms/step - loss: 1.6073 - accuracy: 0.3708 - val_loss: 1.5704 - val_accuracy: 0.3918\n",
      "Epoch 36/40\n",
      "1440/1440 [==============================] - 6s 4ms/step - loss: 1.6064 - accuracy: 0.3718 - val_loss: 1.5716 - val_accuracy: 0.3898\n",
      "Epoch 37/40\n",
      "1440/1440 [==============================] - 6s 4ms/step - loss: 1.6065 - accuracy: 0.3709 - val_loss: 1.5696 - val_accuracy: 0.3920\n",
      "Epoch 38/40\n",
      "1440/1440 [==============================] - 6s 4ms/step - loss: 1.6086 - accuracy: 0.3739 - val_loss: 1.5701 - val_accuracy: 0.3929\n",
      "Epoch 39/40\n",
      "1440/1440 [==============================] - 6s 4ms/step - loss: 1.6055 - accuracy: 0.3700 - val_loss: 1.5753 - val_accuracy: 0.3934\n",
      "Epoch 40/40\n",
      "1440/1440 [==============================] - 6s 4ms/step - loss: 1.6079 - accuracy: 0.3763 - val_loss: 1.5811 - val_accuracy: 0.3809\n"
     ]
    }
   ],
   "source": [
    "history = model.fit(train_features,\n",
    "                    train_labels,\n",
    "                    batch_size=20,\n",
    "                    epochs=40,\n",
    "                    validation_data=(validation_features, validation_labels)\n",
    "                   )"
   ]
  },
  {
   "cell_type": "code",
   "execution_count": 61,
   "metadata": {},
   "outputs": [
    {
     "data": {
      "image/png": "[encoded data removed]",
      "text/plain": [
       "<Figure size 432x288 with 1 Axes>"
      ]
     },
     "metadata": {
      "needs_background": "light"
     },
     "output_type": "display_data"
    },
    {
     "data": {
      "image/png": "[encoded data removed]",
      "text/plain": [
       "<Figure size 432x288 with 1 Axes>"
      ]
     },
     "metadata": {
      "needs_background": "light"
     },
     "output_type": "display_data"
    }
   ],
   "source": [
    "import matplotlib.pyplot as plt\n",
    "\n",
    "acc = history.history['accuracy']\n",
    "loss = history.history['loss']\n",
    "\n",
    "val_acc = history.history['val_accuracy']\n",
    "val_loss = history.history['val_loss']\n",
    "\n",
    "epochs = range(1, len(acc)+1)\n",
    "\n",
    "plt.plot(epochs, acc, 'r', label=\"Training accuracy\")\n",
    "plt.plot(epochs, val_acc, 'b', label=\"Validation accuracy\")\n",
    "plt.title('Training and Validation Accuracy')\n",
    "plt.legend()\n",
    "\n",
    "plt.figure()\n",
    "plt.plot(epochs, loss, 'r', label=\"Training accuracy\")\n",
    "plt.plot(epochs, val_loss, 'b', label=\"Validation accuracy\")\n",
    "plt.title('Training and Validation Loss')\n",
    "plt.legend()\n",
    "plt.show()"
   ]
  },
  {
   "cell_type": "code",
   "execution_count": 65,
   "metadata": {},
   "outputs": [
    {
     "data": {
      "image/png": "[encoded data removed]",
      "text/plain": [
       "<Figure size 432x288 with 1 Axes>"
      ]
     },
     "metadata": {
      "needs_background": "light"
     },
     "output_type": "display_data"
    },
    {
     "data": {
      "image/png": "[encoded data removed]",
      "text/plain": [
       "<Figure size 432x288 with 1 Axes>"
      ]
     },
     "metadata": {
      "needs_background": "light"
     },
     "output_type": "display_data"
    }
   ],
   "source": [
    "import matplotlib.pyplot as plt\n",
    "\n",
    "acc = history.history['accuracy']\n",
    "loss = history.history['loss']\n",
    "\n",
    "val_acc = history.history['val_accuracy']\n",
    "val_loss = history.history['val_loss']\n",
    "\n",
    "epochs = range(1, len(acc)+1)\n",
    "\n",
    "plt.plot(epochs, acc, 'r', label=\"Training accuracy\")\n",
    "plt.plot(epochs, val_acc, 'b', label=\"Validation accuracy\")\n",
    "plt.title('Training and Validation Accuracy')\n",
    "plt.legend()\n",
    "\n",
    "plt.figure()\n",
    "plt.plot(epochs, loss, 'r', label=\"Training accuracy\")\n",
    "plt.plot(epochs, val_loss, 'b', label=\"Validation accuracy\")\n",
    "plt.title('Training and Validation Loss')\n",
    "plt.legend()\n",
    "plt.show()"
   ]
  },
  {
   "cell_type": "code",
   "execution_count": 70,
   "metadata": {},
   "outputs": [
    {
     "data": {
      "image/png": "[encoded data removed]",
      "text/plain": [
       "<Figure size 432x288 with 1 Axes>"
      ]
     },
     "metadata": {
      "needs_background": "light"
     },
     "output_type": "display_data"
    },
    {
     "data": {
      "image/png": "[encoded data removed]",
      "text/plain": [
       "<Figure size 432x288 with 1 Axes>"
      ]
     },
     "metadata": {
      "needs_background": "light"
     },
     "output_type": "display_data"
    }
   ],
   "source": [
    "import matplotlib.pyplot as plt\n",
    "\n",
    "acc = history.history['accuracy']\n",
    "loss = history.history['loss']\n",
    "\n",
    "val_acc = history.history['val_accuracy']\n",
    "val_loss = history.history['val_loss']\n",
    "\n",
    "epochs = range(1, len(acc)+1)\n",
    "\n",
    "plt.plot(epochs, acc, 'r', label=\"Training accuracy\")\n",
    "plt.plot(epochs, val_acc, 'b', label=\"Validation accuracy\")\n",
    "plt.title('Training and Validation Accuracy (2 layers with 256 neurons)')\n",
    "plt.legend()\n",
    "\n",
    "plt.figure()\n",
    "plt.plot(epochs, loss, 'r', label=\"Training accuracy\")\n",
    "plt.plot(epochs, val_loss, 'b', label=\"Validation accuracy\")\n",
    "plt.title('Training and Validation Loss (2 layers with 256 neurons)')\n",
    "plt.legend()\n",
    "plt.show()"
   ]
  },
  {
   "cell_type": "code",
   "execution_count": null,
   "metadata": {},
   "outputs": [],
   "source": []
  }
 ],
 "metadata": {
  "kernelspec": {
   "display_name": "Python 3",
   "language": "python",
   "name": "python3"
  },
  "language_info": {
   "codemirror_mode": {
    "name": "ipython",
    "version": 3
   },
   "file_extension": ".py",
   "mimetype": "text/x-python",
   "name": "python",
   "nbconvert_exporter": "python",
   "pygments_lexer": "ipython3",
   "version": "3.7.6"
  }
 },
 "nbformat": 4,
 "nbformat_minor": 4
}
