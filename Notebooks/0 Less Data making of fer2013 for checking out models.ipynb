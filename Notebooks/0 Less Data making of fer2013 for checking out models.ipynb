{
 "cells": [
  {
   "cell_type": "code",
   "execution_count": 1,
   "metadata": {},
   "outputs": [],
   "source": [
    "import os, shutil"
   ]
  },
  {
   "cell_type": "code",
   "execution_count": 2,
   "metadata": {},
   "outputs": [],
   "source": [
    "original_dataset_dir = \"../Data/fer2013/Training/\"\n",
    "base_dir = \"../Data/fer2013_small/\""
   ]
  },
  {
   "cell_type": "code",
   "execution_count": 3,
   "metadata": {},
   "outputs": [],
   "source": [
    "# Creating train, validation, and test directory inside the small dataset Directory\n",
    "train_dir = os.path.join(base_dir, \"train\")\n",
    "os.mkdir(train_dir)\n",
    "validation_dir = os.path.join(base_dir, \"validation\")\n",
    "os.mkdir(validation_dir)\n",
    "test_dir = os.path.join(base_dir, \"test\")\n",
    "os.mkdir(test_dir)"
   ]
  },
  {
   "cell_type": "code",
   "execution_count": 5,
   "metadata": {},
   "outputs": [
    {
     "data": {
      "text/plain": [
       "['Angry', 'Disgust', 'Fear', 'Happy', 'Neutral', 'Sad', 'Surprise']"
      ]
     },
     "execution_count": 5,
     "metadata": {},
     "output_type": "execute_result"
    }
   ],
   "source": [
    "os.listdir(original_dataset_dir)"
   ]
  },
  {
   "cell_type": "code",
   "execution_count": 6,
   "metadata": {},
   "outputs": [],
   "source": [
    "for i in os.listdir(original_dataset_dir):\n",
    "    train_category_dir = os.path.join(train_dir, i)\n",
    "    os.mkdir(train_category_dir)\n",
    "    validation_category_dir = os.path.join(validation_dir, i)\n",
    "    os.mkdir(validation_category_dir)\n",
    "    test_category_dir = os.path.join(test_dir, i)\n",
    "    os.mkdir(test_category_dir)"
   ]
  },
  {
   "cell_type": "code",
   "execution_count": 15,
   "metadata": {},
   "outputs": [
    {
     "data": {
      "text/plain": [
       "'../Data/fer2013_small/train'"
      ]
     },
     "execution_count": 15,
     "metadata": {},
     "output_type": "execute_result"
    }
   ],
   "source": [
    "train_dir"
   ]
  },
  {
   "cell_type": "code",
   "execution_count": 18,
   "metadata": {},
   "outputs": [
    {
     "name": "stdout",
     "output_type": "stream",
     "text": [
      "500 number of Angry data copied to training data\n",
      "436 number of Disgust data copied to training data\n",
      "500 number of Fear data copied to training data\n",
      "500 number of Happy data copied to training data\n",
      "500 number of Neutral data copied to training data\n",
      "500 number of Sad data copied to training data\n",
      "500 number of Surprise data copied to training data\n"
     ]
    }
   ],
   "source": [
    "# Each category 500 data in training sets\n",
    "for category in os.listdir(original_dataset_dir):\n",
    "    j = 0\n",
    "    category_source_path = os.path.join(original_dataset_dir, category)\n",
    "    category_destination_path = os.path.join(train_dir, category)\n",
    "    for i in os.listdir(category_source_path):\n",
    "        j+=1\n",
    "        category_source_image = os.path.join(category_source_path, i)\n",
    "        category_destination_image = os.path.join(category_destination_path, i)\n",
    "        shutil.copyfile(category_source_image, category_destination_image)\n",
    "        if(j==500):\n",
    "            break\n",
    "    print(\"{} number of {} data copied to training data\".format(j, category))"
   ]
  },
  {
   "cell_type": "code",
   "execution_count": 21,
   "metadata": {},
   "outputs": [
    {
     "name": "stdout",
     "output_type": "stream",
     "text": [
      "200 number of Angry data copied to validation data\n",
      "56 number of Disgust data copied to validation data\n",
      "200 number of Fear data copied to validation data\n",
      "200 number of Happy data copied to validation data\n",
      "200 number of Neutral data copied to validation data\n",
      "200 number of Sad data copied to validation data\n",
      "200 number of Surprise data copied to validation data\n"
     ]
    }
   ],
   "source": [
    "# Each category 200 data in validation sets --> PublicTest Set\n",
    "original_dataset_dir = \"../Data/fer2013/PublicTest/\"\n",
    "for category in os.listdir(original_dataset_dir):\n",
    "    j = 0\n",
    "    category_source_path = os.path.join(original_dataset_dir, category)\n",
    "    category_destination_path = os.path.join(validation_dir, category)\n",
    "    for i in os.listdir(category_source_path):\n",
    "        j+=1\n",
    "        category_source_image = os.path.join(category_source_path, i)\n",
    "        category_destination_image = os.path.join(category_destination_path, i)\n",
    "        shutil.copyfile(category_source_image, category_destination_image)\n",
    "        if(j==200):\n",
    "            break\n",
    "    print(\"{} number of {} data copied to validation data\".format(j, category))"
   ]
  },
  {
   "cell_type": "code",
   "execution_count": 22,
   "metadata": {},
   "outputs": [
    {
     "name": "stdout",
     "output_type": "stream",
     "text": [
      "200 number of Angry data copied to test data\n",
      "55 number of Disgust data copied to test data\n",
      "200 number of Fear data copied to test data\n",
      "200 number of Happy data copied to test data\n",
      "200 number of Neutral data copied to test data\n",
      "200 number of Sad data copied to test data\n",
      "200 number of Surprise data copied to test data\n"
     ]
    }
   ],
   "source": [
    "# Each category 200 data in test sets --> PrivateTest Set\n",
    "original_dataset_dir = \"../Data/fer2013/PrivateTest/\"\n",
    "for category in os.listdir(original_dataset_dir):\n",
    "    j = 0\n",
    "    category_source_path = os.path.join(original_dataset_dir, category)\n",
    "    category_destination_path = os.path.join(test_dir, category)\n",
    "    for i in os.listdir(category_source_path):\n",
    "        j+=1\n",
    "        category_source_image = os.path.join(category_source_path, i)\n",
    "        category_destination_image = os.path.join(category_destination_path, i)\n",
    "        shutil.copyfile(category_source_image, category_destination_image)\n",
    "        if(j==200):\n",
    "            break\n",
    "    print(\"{} number of {} data copied to test data\".format(j, category))"
   ]
  }
 ],
 "metadata": {
  "kernelspec": {
   "display_name": "Python 3",
   "language": "python",
   "name": "python3"
  },
  "language_info": {
   "codemirror_mode": {
    "name": "ipython",
    "version": 3
   },
   "file_extension": ".py",
   "mimetype": "text/x-python",
   "name": "python",
   "nbconvert_exporter": "python",
   "pygments_lexer": "ipython3",
   "version": "3.7.6"
  }
 },
 "nbformat": 4,
 "nbformat_minor": 4
}
